{
 "cells": [
  {
   "cell_type": "markdown",
   "metadata": {},
   "source": [
    "This is a short guide on how to use the module microfluidics.py designed to write microfluidics designs in dxf format.\n",
    "The module requires the following modules:\n",
    "1. numpy\n",
    "2. shapely\n",
    "3. dxfwrite\n",
    "All of them can be installed using the command pip3 install xxxx (or with sudo)\n",
    "\n",
    "All elements that are written in the dxf file are polygons. Since operations have to be performed on them, these polygons always defined as 2D numpy arrays in this module. Sometimes one element of the design is composed of several polygons and thus all those polygons are grouped into a list. In the module, a single element polygon or a list of polygons is called a FEATURE. Most functions take or return such features.\n",
    "\n",
    "Next we give a simple example showing how to produce a minimal design."
   ]
  },
  {
   "cell_type": "markdown",
   "metadata": {},
   "source": [
    "First, define a layer into which to write a feature. Give it a name, a color and say whether the full layer should be rotated (for multi-layer processing)"
   ]
  },
  {
   "cell_type": "code",
   "execution_count": 1,
   "metadata": {
    "collapsed": true
   },
   "outputs": [],
   "source": [
    "from dxfwrite import DXFEngine as dxf\n",
    "import numpy as np\n",
    "import matplotlib.pyplot as plt\n",
    "import microfluidics as mf\n",
    "from copy import deepcopy\n",
    "\n",
    "%matplotlib inline\n",
    "import mpld3\n",
    "mpld3.enable_notebook()"
   ]
  },
  {
   "cell_type": "markdown",
   "metadata": {},
   "source": [
    "Seond, define a layer into which to write a feature. Give it a name, a color and say whether the full layer should be rotated (for multi-layer processing)"
   ]
  },
  {
   "cell_type": "code",
   "execution_count": 2,
   "metadata": {
    "collapsed": true
   },
   "outputs": [],
   "source": [
    "my_layer = {'name':'first_layer','color':1, 'inversion':0}\n",
    "my_layer2 = {'name':'second_layer','color':2, 'inversion':0}"
   ]
  },
  {
   "cell_type": "markdown",
   "metadata": {},
   "source": [
    "Give the coordinates of a simple tube, its radius as well as the curvature of that tube at each point."
   ]
  },
  {
   "cell_type": "code",
   "execution_count": 3,
   "metadata": {
    "collapsed": true
   },
   "outputs": [],
   "source": [
    "tube_coord = [[0,0],[1000,0],[1000,1000]]\n",
    "tube_rad = 20\n",
    "tube_curv = [0,50,0]"
   ]
  },
  {
   "cell_type": "markdown",
   "metadata": {},
   "source": [
    "Create the tube feature by calling define_tube()"
   ]
  },
  {
   "cell_type": "code",
   "execution_count": 4,
   "metadata": {
    "collapsed": true
   },
   "outputs": [],
   "source": [
    "simple_tube = mf.define_tube(tube_coord,tube_curv, tube_rad)"
   ]
  },
  {
   "cell_type": "markdown",
   "metadata": {},
   "source": [
    "Create an empty desing.\n",
    "\n",
    "Create an empty drawing at the place and under the name you want.\n",
    "\n",
    "Add your layers to your drawing"
   ]
  },
  {
   "cell_type": "code",
   "execution_count": 14,
   "metadata": {},
   "outputs": [
    {
     "data": {
      "text/plain": [
       "<dxfwrite.tableentries.Layer at 0x106b7d128>"
      ]
     },
     "execution_count": 14,
     "metadata": {},
     "output_type": "execute_result"
    }
   ],
   "source": [
    "design = {}\n",
    "drawing = dxf.drawing('/Users/guillaume/Desktop/My_drawing.dxf')\n",
    "drawing.add_layer(my_layer['name'], color=my_layer['color'])\n",
    "drawing.add_layer(my_layer2['name'], color=my_layer['color'])"
   ]
  },
  {
   "cell_type": "markdown",
   "metadata": {},
   "source": [
    "Add the feature to the design under the name that you want. You need to provde the 'coord' of the feature, which is the feature itself, the layer, and optionally give an axis around which to mirror your feature"
   ]
  },
  {
   "cell_type": "code",
   "execution_count": 132,
   "metadata": {
    "collapsed": true
   },
   "outputs": [],
   "source": [
    "design['my_first_feature'] = {'coord': simple_tube, 'layer': my_layer, 'mirror': 0}"
   ]
  },
  {
   "cell_type": "markdown",
   "metadata": {},
   "source": [
    "Add other features"
   ]
  },
  {
   "cell_type": "code",
   "execution_count": 133,
   "metadata": {
    "collapsed": true
   },
   "outputs": [],
   "source": [
    "channel_array = mf.channel_array(length=100,num=2,origin=[0,0],space=100,space_series=20,subsampling=1,widths=[10,15])\n",
    "design['my_second_feature'] = {'coord': channel_array,'layer': my_layer2, 'mirror': 0}\n",
    "                                                         "
   ]
  },
  {
   "cell_type": "markdown",
   "metadata": {},
   "source": [
    "Finally draw your design"
   ]
  },
  {
   "cell_type": "code",
   "execution_count": 134,
   "metadata": {},
   "outputs": [
    {
     "data": {
      "text/plain": [
       "<dxfwrite.drawing.Drawing at 0x10761b6a0>"
      ]
     },
     "execution_count": 134,
     "metadata": {},
     "output_type": "execute_result"
    }
   ],
   "source": [
    "mf.draw_design(x,drawing)"
   ]
  },
  {
   "cell_type": "markdown",
   "metadata": {},
   "source": [
    "Then you can move around your design and/or make copies of it at different places. USE deepcopy() TO MAKE COPIES OF YOUR DESIGN, TO AVOID MODIFYING COORDINATES SERIALLY.\n",
    "Then add the moved desing to the drawing"
   ]
  },
  {
   "cell_type": "code",
   "execution_count": 135,
   "metadata": {
    "collapsed": true
   },
   "outputs": [],
   "source": [
    "full_design = [design]\n",
    "position = np.array([-1500,-300])\n",
    "design_moved = mf.set_design_origin(deepcopy(design),position)\n",
    "full_design.append(design_moved)\n",
    "position = np.array([2000,300])\n",
    "design_moved = mf.set_design_origin(deepcopy(design),position)\n",
    "full_design.append(design_moved)\n",
    "\n",
    "for x in full_design:\n",
    "    mf.draw_design(x,drawing)"
   ]
  },
  {
   "cell_type": "markdown",
   "metadata": {},
   "source": [
    "Finally close your drawing to save it."
   ]
  },
  {
   "cell_type": "code",
   "execution_count": 136,
   "metadata": {
    "collapsed": true
   },
   "outputs": [],
   "source": [
    "drawing.save()"
   ]
  },
  {
   "cell_type": "code",
   "execution_count": 137,
   "metadata": {},
   "outputs": [
    {
     "data": {
      "image/png": "[encoded data removed]",
      "text/html": [
       "\n",
       "\n",
       "<style>\n",
       "\n",
       "</style>\n",
       "\n",
       "<div id=\"fig_el844644082833207895131712\"></div>\n",
       "<script>\n",
       "function mpld3_load_lib(url, callback){\n",
       "  var s = document.createElement('script');\n",
       "  s.src = url;\n",
       "  s.async = true;\n",
       "  s.onreadystatechange = s.onload = callback;\n",
       "  s.onerror = function(){console.warn(\"failed to load library \" + url);};\n",
       "  document.getElementsByTagName(\"head\")[0].appendChild(s);\n",
       "}\n",
       "\n",
       "if(typeof(mpld3) !== \"undefined\" && mpld3._mpld3IsLoaded){\n",
       "   // already loaded: just create the figure\n",
       "   !function(mpld3){\n",
       "       \n",
       "       mpld3.draw_figure(\"fig_el844644082833207895131712\", {\"width\": 432.0, \"height\": 288.0, \"axes\": [{\"bbox\": [0.125, 0.125, 0.775, 0.755], \"xlim\": [-1731.25, 3246.25], \"ylim\": [-1430.0, 1430.0], \"xdomain\": [-1731.25, 3246.25], \"ydomain\": [-1430.0, 1430.0], \"xscale\": \"linear\", \"yscale\": \"linear\", \"axes\": [{\"position\": \"bottom\", \"nticks\": 7, \"tickvalues\": null, \"tickformat\": null, \"scale\": \"linear\", \"fontsize\": 10.0, \"grid\": {\"gridOn\": false}, \"visible\": true}, {\"position\": \"left\", \"nticks\": 7, \"tickvalues\": null, \"tickformat\": null, \"scale\": \"linear\", \"fontsize\": 10.0, \"grid\": {\"gridOn\": false}, \"visible\": true}], \"axesbg\": \"#FFFFFF\", \"axesbgalpha\": null, \"zoomable\": true, \"id\": \"el84464415379440\", \"lines\": [{\"data\": \"data01\", \"xindex\": 0, \"yindex\": 1, \"coordinates\": \"data\", \"id\": \"el84464409171304\", \"color\": \"#1F77B4\", \"linewidth\": 1.5, \"dasharray\": \"none\", \"alpha\": 1, \"zorder\": 2, \"drawstyle\": \"default\"}, {\"data\": \"data01\", \"xindex\": 0, \"yindex\": 2, \"coordinates\": \"data\", \"id\": \"el84464409169848\", \"color\": \"#FF7F0E\", \"linewidth\": 1.5, \"dasharray\": \"none\", \"alpha\": 1, \"zorder\": 2, \"drawstyle\": \"default\"}, {\"data\": \"data02\", \"xindex\": 0, \"yindex\": 1, \"coordinates\": \"data\", \"id\": \"el84464408664136\", \"color\": \"#2CA02C\", \"linewidth\": 1.5, \"dasharray\": \"none\", \"alpha\": 1, \"zorder\": 2, \"drawstyle\": \"default\"}, {\"data\": \"data02\", \"xindex\": 0, \"yindex\": 2, \"coordinates\": \"data\", \"id\": \"el84464408665256\", \"color\": \"#D62728\", \"linewidth\": 1.5, \"dasharray\": \"none\", \"alpha\": 1, \"zorder\": 2, \"drawstyle\": \"default\"}, {\"data\": \"data02\", \"xindex\": 3, \"yindex\": 1, \"coordinates\": \"data\", \"id\": \"el84464413531752\", \"color\": \"#9467BD\", \"linewidth\": 1.5, \"dasharray\": \"none\", \"alpha\": 1, \"zorder\": 2, \"drawstyle\": \"default\"}, {\"data\": \"data02\", \"xindex\": 3, \"yindex\": 2, \"coordinates\": \"data\", \"id\": \"el84464410485560\", \"color\": \"#8C564B\", \"linewidth\": 1.5, \"dasharray\": \"none\", \"alpha\": 1, \"zorder\": 2, \"drawstyle\": \"default\"}, {\"data\": \"data02\", \"xindex\": 4, \"yindex\": 1, \"coordinates\": \"data\", \"id\": \"el84464410398144\", \"color\": \"#E377C2\", \"linewidth\": 1.5, \"dasharray\": \"none\", \"alpha\": 1, \"zorder\": 2, \"drawstyle\": \"default\"}, {\"data\": \"data02\", \"xindex\": 4, \"yindex\": 2, \"coordinates\": \"data\", \"id\": \"el84464406974672\", \"color\": \"#7F7F7F\", \"linewidth\": 1.5, \"dasharray\": \"none\", \"alpha\": 1, \"zorder\": 2, \"drawstyle\": \"default\"}, {\"data\": \"data02\", \"xindex\": 5, \"yindex\": 1, \"coordinates\": \"data\", \"id\": \"el84464407693888\", \"color\": \"#BCBD22\", \"linewidth\": 1.5, \"dasharray\": \"none\", \"alpha\": 1, \"zorder\": 2, \"drawstyle\": \"default\"}, {\"data\": \"data02\", \"xindex\": 5, \"yindex\": 2, \"coordinates\": \"data\", \"id\": \"el84464409053256\", \"color\": \"#17BECF\", \"linewidth\": 1.5, \"dasharray\": \"none\", \"alpha\": 1, \"zorder\": 2, \"drawstyle\": \"default\"}, {\"data\": \"data03\", \"xindex\": 0, \"yindex\": 1, \"coordinates\": \"data\", \"id\": \"el84464413922720\", \"color\": \"#1F77B4\", \"linewidth\": 1.5, \"dasharray\": \"none\", \"alpha\": 1, \"zorder\": 2, \"drawstyle\": \"default\"}, {\"data\": \"data03\", \"xindex\": 0, \"yindex\": 2, \"coordinates\": \"data\", \"id\": \"el84464410559848\", \"color\": \"#FF7F0E\", \"linewidth\": 1.5, \"dasharray\": \"none\", \"alpha\": 1, \"zorder\": 2, \"drawstyle\": \"default\"}, {\"data\": \"data04\", \"xindex\": 0, \"yindex\": 1, \"coordinates\": \"data\", \"id\": \"el84464415786344\", \"color\": \"#2CA02C\", \"linewidth\": 1.5, \"dasharray\": \"none\", \"alpha\": 1, \"zorder\": 2, \"drawstyle\": \"default\"}, {\"data\": \"data04\", \"xindex\": 0, \"yindex\": 2, \"coordinates\": \"data\", \"id\": \"el84464407619256\", \"color\": \"#D62728\", \"linewidth\": 1.5, \"dasharray\": \"none\", \"alpha\": 1, \"zorder\": 2, \"drawstyle\": \"default\"}, {\"data\": \"data04\", \"xindex\": 3, \"yindex\": 1, \"coordinates\": \"data\", \"id\": \"el84464407616848\", \"color\": \"#9467BD\", \"linewidth\": 1.5, \"dasharray\": \"none\", \"alpha\": 1, \"zorder\": 2, \"drawstyle\": \"default\"}, {\"data\": \"data04\", \"xindex\": 3, \"yindex\": 2, \"coordinates\": \"data\", \"id\": \"el84464410474680\", \"color\": \"#8C564B\", \"linewidth\": 1.5, \"dasharray\": \"none\", \"alpha\": 1, \"zorder\": 2, \"drawstyle\": \"default\"}, {\"data\": \"data04\", \"xindex\": 4, \"yindex\": 1, \"coordinates\": \"data\", \"id\": \"el84464410476920\", \"color\": \"#E377C2\", \"linewidth\": 1.5, \"dasharray\": \"none\", \"alpha\": 1, \"zorder\": 2, \"drawstyle\": \"default\"}, {\"data\": \"data04\", \"xindex\": 4, \"yindex\": 2, \"coordinates\": \"data\", \"id\": \"el84464408308736\", \"color\": \"#7F7F7F\", \"linewidth\": 1.5, \"dasharray\": \"none\", \"alpha\": 1, \"zorder\": 2, \"drawstyle\": \"default\"}, {\"data\": \"data04\", \"xindex\": 5, \"yindex\": 1, \"coordinates\": \"data\", \"id\": \"el84464408311648\", \"color\": \"#BCBD22\", \"linewidth\": 1.5, \"dasharray\": \"none\", \"alpha\": 1, \"zorder\": 2, \"drawstyle\": \"default\"}, {\"data\": \"data04\", \"xindex\": 5, \"yindex\": 2, \"coordinates\": \"data\", \"id\": \"el84464408474480\", \"color\": \"#17BECF\", \"linewidth\": 1.5, \"dasharray\": \"none\", \"alpha\": 1, \"zorder\": 2, \"drawstyle\": \"default\"}, {\"data\": \"data05\", \"xindex\": 0, \"yindex\": 1, \"coordinates\": \"data\", \"id\": \"el84464408471904\", \"color\": \"#1F77B4\", \"linewidth\": 1.5, \"dasharray\": \"none\", \"alpha\": 1, \"zorder\": 2, \"drawstyle\": \"default\"}, {\"data\": \"data05\", \"xindex\": 0, \"yindex\": 2, \"coordinates\": \"data\", \"id\": \"el84464408407544\", \"color\": \"#FF7F0E\", \"linewidth\": 1.5, \"dasharray\": \"none\", \"alpha\": 1, \"zorder\": 2, \"drawstyle\": \"default\"}, {\"data\": \"data06\", \"xindex\": 0, \"yindex\": 1, \"coordinates\": \"data\", \"id\": \"el84464408694040\", \"color\": \"#2CA02C\", \"linewidth\": 1.5, \"dasharray\": \"none\", \"alpha\": 1, \"zorder\": 2, \"drawstyle\": \"default\"}, {\"data\": \"data06\", \"xindex\": 0, \"yindex\": 2, \"coordinates\": \"data\", \"id\": \"el84464408695104\", \"color\": \"#D62728\", \"linewidth\": 1.5, \"dasharray\": \"none\", \"alpha\": 1, \"zorder\": 2, \"drawstyle\": \"default\"}, {\"data\": \"data06\", \"xindex\": 3, \"yindex\": 1, \"coordinates\": \"data\", \"id\": \"el84464408349136\", \"color\": \"#9467BD\", \"linewidth\": 1.5, \"dasharray\": \"none\", \"alpha\": 1, \"zorder\": 2, \"drawstyle\": \"default\"}, {\"data\": \"data06\", \"xindex\": 3, \"yindex\": 2, \"coordinates\": \"data\", \"id\": \"el84464419447776\", \"color\": \"#8C564B\", \"linewidth\": 1.5, \"dasharray\": \"none\", \"alpha\": 1, \"zorder\": 2, \"drawstyle\": \"default\"}, {\"data\": \"data06\", \"xindex\": 4, \"yindex\": 1, \"coordinates\": \"data\", \"id\": \"el84464410775256\", \"color\": \"#E377C2\", \"linewidth\": 1.5, \"dasharray\": \"none\", \"alpha\": 1, \"zorder\": 2, \"drawstyle\": \"default\"}, {\"data\": \"data06\", \"xindex\": 4, \"yindex\": 2, \"coordinates\": \"data\", \"id\": \"el84464410773912\", \"color\": \"#7F7F7F\", \"linewidth\": 1.5, \"dasharray\": \"none\", \"alpha\": 1, \"zorder\": 2, \"drawstyle\": \"default\"}, {\"data\": \"data06\", \"xindex\": 5, \"yindex\": 1, \"coordinates\": \"data\", \"id\": \"el84464406773352\", \"color\": \"#BCBD22\", \"linewidth\": 1.5, \"dasharray\": \"none\", \"alpha\": 1, \"zorder\": 2, \"drawstyle\": \"default\"}, {\"data\": \"data06\", \"xindex\": 5, \"yindex\": 2, \"coordinates\": \"data\", \"id\": \"el84464406096224\", \"color\": \"#17BECF\", \"linewidth\": 1.5, \"dasharray\": \"none\", \"alpha\": 1, \"zorder\": 2, \"drawstyle\": \"default\"}], \"paths\": [], \"markers\": [], \"texts\": [], \"collections\": [], \"images\": [], \"sharex\": [], \"sharey\": []}], \"data\": {\"data01\": [[-0.0, -20.0, 20.0], [951.0, -19.98, 19.98], [957.98, -19.53, 19.53], [964.88, -18.38, 18.38], [971.63, -16.55, 16.55], [978.17, -14.06, 14.06], [984.43, -10.93, 10.93], [990.34, -7.19, 7.19], [995.84, -2.88, 2.88], [1000.89, 1.97, -1.97], [1005.43, 7.29, -7.29], [1009.42, 13.03, -13.03], [1012.82, 19.15, -19.15], [1015.58, 25.58, -25.58], [1017.69, 32.24, -32.24], [1019.13, 39.09, -39.09], [1019.87, 46.46, -46.46], [1020.0, 1000.0, -1000.0], [980.0, 1000.0, -1000.0], [979.87, 46.47, -46.47], [979.42, 43.91, -43.91], [978.66, 41.01, -41.01], [977.62, 38.19, -38.19], [976.31, 35.49, -35.49], [974.73, 32.94, -32.94], [972.9, 30.55, -30.55], [970.84, 28.36, -28.36], [968.58, 26.39, -26.39], [966.13, 24.65, -24.65], [963.52, 23.17, -23.17], [960.77, 21.96, -21.96], [957.92, 21.02, -21.02], [954.99, 20.37, -20.37], [952.0, 20.03, -20.03], [949.0, 19.98, -19.98], [0.0, 20.0, -20.0]], \"data02\": [[-5.0, 0.0, 0.0, 95.0, 212.5, 312.5], [-5.0, 100.0, -100.0, 95.0, 212.5, 312.5], [5.0, 100.0, -100.0, 105.0, 227.5, 327.5], [5.0, 0.0, 0.0, 105.0, 227.5, 327.5]], \"data03\": [[-1500.0, -320.0, 320.0], [-549.0, -319.98, 319.98], [-542.02, -319.53, 319.53], [-535.12, -318.38, 318.38], [-528.37, -316.55, 316.55], [-521.83, -314.06, 314.06], [-515.57, -310.93, 310.93], [-509.65999999999997, -307.19, 307.19], [-504.15999999999997, -302.88, 302.88], [-499.11, -298.03, 298.03], [-494.57000000000005, -292.71, 292.71], [-490.58000000000004, -286.97, 286.97], [-487.17999999999995, -280.85, 280.85], [-484.41999999999996, -274.42, 274.42], [-482.30999999999995, -267.76, 267.76], [-480.87, -260.90999999999997, 260.90999999999997], [-480.13, -253.54, 253.54], [-480.0, 700.0, -700.0], [-520.0, 700.0, -700.0], [-520.13, -253.53, 253.53], [-520.58, -256.09000000000003, 256.09000000000003], [-521.34, -258.99, 258.99], [-522.38, -261.81, 261.81], [-523.69, -264.51, 264.51], [-525.27, -267.06, 267.06], [-527.1, -269.45, 269.45], [-529.16, -271.64, 271.64], [-531.42, -273.61, 273.61], [-533.87, -275.35, 275.35], [-536.48, -276.83, 276.83], [-539.23, -278.04, 278.04], [-542.08, -278.98, 278.98], [-545.01, -279.63, 279.63], [-548.0, -279.97, 279.97], [-551.0, -280.02, 280.02], [-1500.0, -280.0, 280.0]], \"data04\": [[-1505.0, 300.0, -300.0, -1405.0, -1287.5, -1187.5], [-1505.0, 400.0, -400.0, -1405.0, -1287.5, -1187.5], [-1495.0, 400.0, -400.0, -1395.0, -1272.5, -1172.5], [-1495.0, 300.0, -300.0, -1395.0, -1272.5, -1172.5]], \"data05\": [[2000.0, 280.0, -280.0], [2951.0, 280.02, -280.02], [2957.98, 280.47, -280.47], [2964.88, 281.62, -281.62], [2971.63, 283.45, -283.45], [2978.17, 285.94, -285.94], [2984.43, 289.07, -289.07], [2990.34, 292.81, -292.81], [2995.84, 297.12, -297.12], [3000.89, 301.97, -301.97], [3005.43, 307.29, -307.29], [3009.42, 313.03, -313.03], [3012.82, 319.15, -319.15], [3015.58, 325.58, -325.58], [3017.69, 332.24, -332.24], [3019.13, 339.09000000000003, -339.09000000000003], [3019.87, 346.46, -346.46], [3020.0, 1300.0, -1300.0], [2980.0, 1300.0, -1300.0], [2979.87, 346.47, -346.47], [2979.42, 343.90999999999997, -343.90999999999997], [2978.66, 341.01, -341.01], [2977.62, 338.19, -338.19], [2976.31, 335.49, -335.49], [2974.73, 332.94, -332.94], [2972.9, 330.55, -330.55], [2970.84, 328.36, -328.36], [2968.58, 326.39, -326.39], [2966.13, 324.65, -324.65], [2963.52, 323.17, -323.17], [2960.77, 321.96, -321.96], [2957.92, 321.02, -321.02], [2954.99, 320.37, -320.37], [2952.0, 320.03, -320.03], [2949.0, 319.98, -319.98], [2000.0, 320.0, -320.0]], \"data06\": [[1995.0, -300.0, 300.0, 2095.0, 2212.5, 2312.5], [1995.0, -200.0, 200.0, 2095.0, 2212.5, 2312.5], [2005.0, -200.0, 200.0, 2105.0, 2227.5, 2327.5], [2005.0, -300.0, 300.0, 2105.0, 2227.5, 2327.5]]}, \"id\": \"el84464408283320\", \"plugins\": [{\"type\": \"reset\"}, {\"type\": \"zoom\", \"button\": true, \"enabled\": false}, {\"type\": \"boxzoom\", \"button\": true, \"enabled\": false}]});\n",
       "   }(mpld3);\n",
       "}else if(typeof define === \"function\" && define.amd){\n",
       "   // require.js is available: use it to load d3/mpld3\n",
       "   require.config({paths: {d3: \"https://mpld3.github.io/js/d3.v3.min\"}});\n",
       "   require([\"d3\"], function(d3){\n",
       "      window.d3 = d3;\n",
       "      mpld3_load_lib(\"https://mpld3.github.io/js/mpld3.v0.3.js\", function(){\n",
       "         \n",
       "         mpld3.draw_figure(\"fig_el844644082833207895131712\", {\"width\": 432.0, \"height\": 288.0, \"axes\": [{\"bbox\": [0.125, 0.125, 0.775, 0.755], \"xlim\": [-1731.25, 3246.25], \"ylim\": [-1430.0, 1430.0], \"xdomain\": [-1731.25, 3246.25], \"ydomain\": [-1430.0, 1430.0], \"xscale\": \"linear\", \"yscale\": \"linear\", \"axes\": [{\"position\": \"bottom\", \"nticks\": 7, \"tickvalues\": null, \"tickformat\": null, \"scale\": \"linear\", \"fontsize\": 10.0, \"grid\": {\"gridOn\": false}, \"visible\": true}, {\"position\": \"left\", \"nticks\": 7, \"tickvalues\": null, \"tickformat\": null, \"scale\": \"linear\", \"fontsize\": 10.0, \"grid\": {\"gridOn\": false}, \"visible\": true}], \"axesbg\": \"#FFFFFF\", \"axesbgalpha\": null, \"zoomable\": true, \"id\": \"el84464415379440\", \"lines\": [{\"data\": \"data01\", \"xindex\": 0, \"yindex\": 1, \"coordinates\": \"data\", \"id\": \"el84464409171304\", \"color\": \"#1F77B4\", \"linewidth\": 1.5, \"dasharray\": \"none\", \"alpha\": 1, \"zorder\": 2, \"drawstyle\": \"default\"}, {\"data\": \"data01\", \"xindex\": 0, \"yindex\": 2, \"coordinates\": \"data\", \"id\": \"el84464409169848\", \"color\": \"#FF7F0E\", \"linewidth\": 1.5, \"dasharray\": \"none\", \"alpha\": 1, \"zorder\": 2, \"drawstyle\": \"default\"}, {\"data\": \"data02\", \"xindex\": 0, \"yindex\": 1, \"coordinates\": \"data\", \"id\": \"el84464408664136\", \"color\": \"#2CA02C\", \"linewidth\": 1.5, \"dasharray\": \"none\", \"alpha\": 1, \"zorder\": 2, \"drawstyle\": \"default\"}, {\"data\": \"data02\", \"xindex\": 0, \"yindex\": 2, \"coordinates\": \"data\", \"id\": \"el84464408665256\", \"color\": \"#D62728\", \"linewidth\": 1.5, \"dasharray\": \"none\", \"alpha\": 1, \"zorder\": 2, \"drawstyle\": \"default\"}, {\"data\": \"data02\", \"xindex\": 3, \"yindex\": 1, \"coordinates\": \"data\", \"id\": \"el84464413531752\", \"color\": \"#9467BD\", \"linewidth\": 1.5, \"dasharray\": \"none\", \"alpha\": 1, \"zorder\": 2, \"drawstyle\": \"default\"}, {\"data\": \"data02\", \"xindex\": 3, \"yindex\": 2, \"coordinates\": \"data\", \"id\": \"el84464410485560\", \"color\": \"#8C564B\", \"linewidth\": 1.5, \"dasharray\": \"none\", \"alpha\": 1, \"zorder\": 2, \"drawstyle\": \"default\"}, {\"data\": \"data02\", \"xindex\": 4, \"yindex\": 1, \"coordinates\": \"data\", \"id\": \"el84464410398144\", \"color\": \"#E377C2\", \"linewidth\": 1.5, \"dasharray\": \"none\", \"alpha\": 1, \"zorder\": 2, \"drawstyle\": \"default\"}, {\"data\": \"data02\", \"xindex\": 4, \"yindex\": 2, \"coordinates\": \"data\", \"id\": \"el84464406974672\", \"color\": \"#7F7F7F\", \"linewidth\": 1.5, \"dasharray\": \"none\", \"alpha\": 1, \"zorder\": 2, \"drawstyle\": \"default\"}, {\"data\": \"data02\", \"xindex\": 5, \"yindex\": 1, \"coordinates\": \"data\", \"id\": \"el84464407693888\", \"color\": \"#BCBD22\", \"linewidth\": 1.5, \"dasharray\": \"none\", \"alpha\": 1, \"zorder\": 2, \"drawstyle\": \"default\"}, {\"data\": \"data02\", \"xindex\": 5, \"yindex\": 2, \"coordinates\": \"data\", \"id\": \"el84464409053256\", \"color\": \"#17BECF\", \"linewidth\": 1.5, \"dasharray\": \"none\", \"alpha\": 1, \"zorder\": 2, \"drawstyle\": \"default\"}, {\"data\": \"data03\", \"xindex\": 0, \"yindex\": 1, \"coordinates\": \"data\", \"id\": \"el84464413922720\", \"color\": \"#1F77B4\", \"linewidth\": 1.5, \"dasharray\": \"none\", \"alpha\": 1, \"zorder\": 2, \"drawstyle\": \"default\"}, {\"data\": \"data03\", \"xindex\": 0, \"yindex\": 2, \"coordinates\": \"data\", \"id\": \"el84464410559848\", \"color\": \"#FF7F0E\", \"linewidth\": 1.5, \"dasharray\": \"none\", \"alpha\": 1, \"zorder\": 2, \"drawstyle\": \"default\"}, {\"data\": \"data04\", \"xindex\": 0, \"yindex\": 1, \"coordinates\": \"data\", \"id\": \"el84464415786344\", \"color\": \"#2CA02C\", \"linewidth\": 1.5, \"dasharray\": \"none\", \"alpha\": 1, \"zorder\": 2, \"drawstyle\": \"default\"}, {\"data\": \"data04\", \"xindex\": 0, \"yindex\": 2, \"coordinates\": \"data\", \"id\": \"el84464407619256\", \"color\": \"#D62728\", \"linewidth\": 1.5, \"dasharray\": \"none\", \"alpha\": 1, \"zorder\": 2, \"drawstyle\": \"default\"}, {\"data\": \"data04\", \"xindex\": 3, \"yindex\": 1, \"coordinates\": \"data\", \"id\": \"el84464407616848\", \"color\": \"#9467BD\", \"linewidth\": 1.5, \"dasharray\": \"none\", \"alpha\": 1, \"zorder\": 2, \"drawstyle\": \"default\"}, {\"data\": \"data04\", \"xindex\": 3, \"yindex\": 2, \"coordinates\": \"data\", \"id\": \"el84464410474680\", \"color\": \"#8C564B\", \"linewidth\": 1.5, \"dasharray\": \"none\", \"alpha\": 1, \"zorder\": 2, \"drawstyle\": \"default\"}, {\"data\": \"data04\", \"xindex\": 4, \"yindex\": 1, \"coordinates\": \"data\", \"id\": \"el84464410476920\", \"color\": \"#E377C2\", \"linewidth\": 1.5, \"dasharray\": \"none\", \"alpha\": 1, \"zorder\": 2, \"drawstyle\": \"default\"}, {\"data\": \"data04\", \"xindex\": 4, \"yindex\": 2, \"coordinates\": \"data\", \"id\": \"el84464408308736\", \"color\": \"#7F7F7F\", \"linewidth\": 1.5, \"dasharray\": \"none\", \"alpha\": 1, \"zorder\": 2, \"drawstyle\": \"default\"}, {\"data\": \"data04\", \"xindex\": 5, \"yindex\": 1, \"coordinates\": \"data\", \"id\": \"el84464408311648\", \"color\": \"#BCBD22\", \"linewidth\": 1.5, \"dasharray\": \"none\", \"alpha\": 1, \"zorder\": 2, \"drawstyle\": \"default\"}, {\"data\": \"data04\", \"xindex\": 5, \"yindex\": 2, \"coordinates\": \"data\", \"id\": \"el84464408474480\", \"color\": \"#17BECF\", \"linewidth\": 1.5, \"dasharray\": \"none\", \"alpha\": 1, \"zorder\": 2, \"drawstyle\": \"default\"}, {\"data\": \"data05\", \"xindex\": 0, \"yindex\": 1, \"coordinates\": \"data\", \"id\": \"el84464408471904\", \"color\": \"#1F77B4\", \"linewidth\": 1.5, \"dasharray\": \"none\", \"alpha\": 1, \"zorder\": 2, \"drawstyle\": \"default\"}, {\"data\": \"data05\", \"xindex\": 0, \"yindex\": 2, \"coordinates\": \"data\", \"id\": \"el84464408407544\", \"color\": \"#FF7F0E\", \"linewidth\": 1.5, \"dasharray\": \"none\", \"alpha\": 1, \"zorder\": 2, \"drawstyle\": \"default\"}, {\"data\": \"data06\", \"xindex\": 0, \"yindex\": 1, \"coordinates\": \"data\", \"id\": \"el84464408694040\", \"color\": \"#2CA02C\", \"linewidth\": 1.5, \"dasharray\": \"none\", \"alpha\": 1, \"zorder\": 2, \"drawstyle\": \"default\"}, {\"data\": \"data06\", \"xindex\": 0, \"yindex\": 2, \"coordinates\": \"data\", \"id\": \"el84464408695104\", \"color\": \"#D62728\", \"linewidth\": 1.5, \"dasharray\": \"none\", \"alpha\": 1, \"zorder\": 2, \"drawstyle\": \"default\"}, {\"data\": \"data06\", \"xindex\": 3, \"yindex\": 1, \"coordinates\": \"data\", \"id\": \"el84464408349136\", \"color\": \"#9467BD\", \"linewidth\": 1.5, \"dasharray\": \"none\", \"alpha\": 1, \"zorder\": 2, \"drawstyle\": \"default\"}, {\"data\": \"data06\", \"xindex\": 3, \"yindex\": 2, \"coordinates\": \"data\", \"id\": \"el84464419447776\", \"color\": \"#8C564B\", \"linewidth\": 1.5, \"dasharray\": \"none\", \"alpha\": 1, \"zorder\": 2, \"drawstyle\": \"default\"}, {\"data\": \"data06\", \"xindex\": 4, \"yindex\": 1, \"coordinates\": \"data\", \"id\": \"el84464410775256\", \"color\": \"#E377C2\", \"linewidth\": 1.5, \"dasharray\": \"none\", \"alpha\": 1, \"zorder\": 2, \"drawstyle\": \"default\"}, {\"data\": \"data06\", \"xindex\": 4, \"yindex\": 2, \"coordinates\": \"data\", \"id\": \"el84464410773912\", \"color\": \"#7F7F7F\", \"linewidth\": 1.5, \"dasharray\": \"none\", \"alpha\": 1, \"zorder\": 2, \"drawstyle\": \"default\"}, {\"data\": \"data06\", \"xindex\": 5, \"yindex\": 1, \"coordinates\": \"data\", \"id\": \"el84464406773352\", \"color\": \"#BCBD22\", \"linewidth\": 1.5, \"dasharray\": \"none\", \"alpha\": 1, \"zorder\": 2, \"drawstyle\": \"default\"}, {\"data\": \"data06\", \"xindex\": 5, \"yindex\": 2, \"coordinates\": \"data\", \"id\": \"el84464406096224\", \"color\": \"#17BECF\", \"linewidth\": 1.5, \"dasharray\": \"none\", \"alpha\": 1, \"zorder\": 2, \"drawstyle\": \"default\"}], \"paths\": [], \"markers\": [], \"texts\": [], \"collections\": [], \"images\": [], \"sharex\": [], \"sharey\": []}], \"data\": {\"data01\": [[-0.0, -20.0, 20.0], [951.0, -19.98, 19.98], [957.98, -19.53, 19.53], [964.88, -18.38, 18.38], [971.63, -16.55, 16.55], [978.17, -14.06, 14.06], [984.43, -10.93, 10.93], [990.34, -7.19, 7.19], [995.84, -2.88, 2.88], [1000.89, 1.97, -1.97], [1005.43, 7.29, -7.29], [1009.42, 13.03, -13.03], [1012.82, 19.15, -19.15], [1015.58, 25.58, -25.58], [1017.69, 32.24, -32.24], [1019.13, 39.09, -39.09], [1019.87, 46.46, -46.46], [1020.0, 1000.0, -1000.0], [980.0, 1000.0, -1000.0], [979.87, 46.47, -46.47], [979.42, 43.91, -43.91], [978.66, 41.01, -41.01], [977.62, 38.19, -38.19], [976.31, 35.49, -35.49], [974.73, 32.94, -32.94], [972.9, 30.55, -30.55], [970.84, 28.36, -28.36], [968.58, 26.39, -26.39], [966.13, 24.65, -24.65], [963.52, 23.17, -23.17], [960.77, 21.96, -21.96], [957.92, 21.02, -21.02], [954.99, 20.37, -20.37], [952.0, 20.03, -20.03], [949.0, 19.98, -19.98], [0.0, 20.0, -20.0]], \"data02\": [[-5.0, 0.0, 0.0, 95.0, 212.5, 312.5], [-5.0, 100.0, -100.0, 95.0, 212.5, 312.5], [5.0, 100.0, -100.0, 105.0, 227.5, 327.5], [5.0, 0.0, 0.0, 105.0, 227.5, 327.5]], \"data03\": [[-1500.0, -320.0, 320.0], [-549.0, -319.98, 319.98], [-542.02, -319.53, 319.53], [-535.12, -318.38, 318.38], [-528.37, -316.55, 316.55], [-521.83, -314.06, 314.06], [-515.57, -310.93, 310.93], [-509.65999999999997, -307.19, 307.19], [-504.15999999999997, -302.88, 302.88], [-499.11, -298.03, 298.03], [-494.57000000000005, -292.71, 292.71], [-490.58000000000004, -286.97, 286.97], [-487.17999999999995, -280.85, 280.85], [-484.41999999999996, -274.42, 274.42], [-482.30999999999995, -267.76, 267.76], [-480.87, -260.90999999999997, 260.90999999999997], [-480.13, -253.54, 253.54], [-480.0, 700.0, -700.0], [-520.0, 700.0, -700.0], [-520.13, -253.53, 253.53], [-520.58, -256.09000000000003, 256.09000000000003], [-521.34, -258.99, 258.99], [-522.38, -261.81, 261.81], [-523.69, -264.51, 264.51], [-525.27, -267.06, 267.06], [-527.1, -269.45, 269.45], [-529.16, -271.64, 271.64], [-531.42, -273.61, 273.61], [-533.87, -275.35, 275.35], [-536.48, -276.83, 276.83], [-539.23, -278.04, 278.04], [-542.08, -278.98, 278.98], [-545.01, -279.63, 279.63], [-548.0, -279.97, 279.97], [-551.0, -280.02, 280.02], [-1500.0, -280.0, 280.0]], \"data04\": [[-1505.0, 300.0, -300.0, -1405.0, -1287.5, -1187.5], [-1505.0, 400.0, -400.0, -1405.0, -1287.5, -1187.5], [-1495.0, 400.0, -400.0, -1395.0, -1272.5, -1172.5], [-1495.0, 300.0, -300.0, -1395.0, -1272.5, -1172.5]], \"data05\": [[2000.0, 280.0, -280.0], [2951.0, 280.02, -280.02], [2957.98, 280.47, -280.47], [2964.88, 281.62, -281.62], [2971.63, 283.45, -283.45], [2978.17, 285.94, -285.94], [2984.43, 289.07, -289.07], [2990.34, 292.81, -292.81], [2995.84, 297.12, -297.12], [3000.89, 301.97, -301.97], [3005.43, 307.29, -307.29], [3009.42, 313.03, -313.03], [3012.82, 319.15, -319.15], [3015.58, 325.58, -325.58], [3017.69, 332.24, -332.24], [3019.13, 339.09000000000003, -339.09000000000003], [3019.87, 346.46, -346.46], [3020.0, 1300.0, -1300.0], [2980.0, 1300.0, -1300.0], [2979.87, 346.47, -346.47], [2979.42, 343.90999999999997, -343.90999999999997], [2978.66, 341.01, -341.01], [2977.62, 338.19, -338.19], [2976.31, 335.49, -335.49], [2974.73, 332.94, -332.94], [2972.9, 330.55, -330.55], [2970.84, 328.36, -328.36], [2968.58, 326.39, -326.39], [2966.13, 324.65, -324.65], [2963.52, 323.17, -323.17], [2960.77, 321.96, -321.96], [2957.92, 321.02, -321.02], [2954.99, 320.37, -320.37], [2952.0, 320.03, -320.03], [2949.0, 319.98, -319.98], [2000.0, 320.0, -320.0]], \"data06\": [[1995.0, -300.0, 300.0, 2095.0, 2212.5, 2312.5], [1995.0, -200.0, 200.0, 2095.0, 2212.5, 2312.5], [2005.0, -200.0, 200.0, 2105.0, 2227.5, 2327.5], [2005.0, -300.0, 300.0, 2105.0, 2227.5, 2327.5]]}, \"id\": \"el84464408283320\", \"plugins\": [{\"type\": \"reset\"}, {\"type\": \"zoom\", \"button\": true, \"enabled\": false}, {\"type\": \"boxzoom\", \"button\": true, \"enabled\": false}]});\n",
       "      });\n",
       "    });\n",
       "}else{\n",
       "    // require.js not available: dynamically load d3 & mpld3\n",
       "    mpld3_load_lib(\"https://mpld3.github.io/js/d3.v3.min.js\", function(){\n",
       "         mpld3_load_lib(\"https://mpld3.github.io/js/mpld3.v0.3.js\", function(){\n",
       "                 \n",
       "                 mpld3.draw_figure(\"fig_el844644082833207895131712\", {\"width\": 432.0, \"height\": 288.0, \"axes\": [{\"bbox\": [0.125, 0.125, 0.775, 0.755], \"xlim\": [-1731.25, 3246.25], \"ylim\": [-1430.0, 1430.0], \"xdomain\": [-1731.25, 3246.25], \"ydomain\": [-1430.0, 1430.0], \"xscale\": \"linear\", \"yscale\": \"linear\", \"axes\": [{\"position\": \"bottom\", \"nticks\": 7, \"tickvalues\": null, \"tickformat\": null, \"scale\": \"linear\", \"fontsize\": 10.0, \"grid\": {\"gridOn\": false}, \"visible\": true}, {\"position\": \"left\", \"nticks\": 7, \"tickvalues\": null, \"tickformat\": null, \"scale\": \"linear\", \"fontsize\": 10.0, \"grid\": {\"gridOn\": false}, \"visible\": true}], \"axesbg\": \"#FFFFFF\", \"axesbgalpha\": null, \"zoomable\": true, \"id\": \"el84464415379440\", \"lines\": [{\"data\": \"data01\", \"xindex\": 0, \"yindex\": 1, \"coordinates\": \"data\", \"id\": \"el84464409171304\", \"color\": \"#1F77B4\", \"linewidth\": 1.5, \"dasharray\": \"none\", \"alpha\": 1, \"zorder\": 2, \"drawstyle\": \"default\"}, {\"data\": \"data01\", \"xindex\": 0, \"yindex\": 2, \"coordinates\": \"data\", \"id\": \"el84464409169848\", \"color\": \"#FF7F0E\", \"linewidth\": 1.5, \"dasharray\": \"none\", \"alpha\": 1, \"zorder\": 2, \"drawstyle\": \"default\"}, {\"data\": \"data02\", \"xindex\": 0, \"yindex\": 1, \"coordinates\": \"data\", \"id\": \"el84464408664136\", \"color\": \"#2CA02C\", \"linewidth\": 1.5, \"dasharray\": \"none\", \"alpha\": 1, \"zorder\": 2, \"drawstyle\": \"default\"}, {\"data\": \"data02\", \"xindex\": 0, \"yindex\": 2, \"coordinates\": \"data\", \"id\": \"el84464408665256\", \"color\": \"#D62728\", \"linewidth\": 1.5, \"dasharray\": \"none\", \"alpha\": 1, \"zorder\": 2, \"drawstyle\": \"default\"}, {\"data\": \"data02\", \"xindex\": 3, \"yindex\": 1, \"coordinates\": \"data\", \"id\": \"el84464413531752\", \"color\": \"#9467BD\", \"linewidth\": 1.5, \"dasharray\": \"none\", \"alpha\": 1, \"zorder\": 2, \"drawstyle\": \"default\"}, {\"data\": \"data02\", \"xindex\": 3, \"yindex\": 2, \"coordinates\": \"data\", \"id\": \"el84464410485560\", \"color\": \"#8C564B\", \"linewidth\": 1.5, \"dasharray\": \"none\", \"alpha\": 1, \"zorder\": 2, \"drawstyle\": \"default\"}, {\"data\": \"data02\", \"xindex\": 4, \"yindex\": 1, \"coordinates\": \"data\", \"id\": \"el84464410398144\", \"color\": \"#E377C2\", \"linewidth\": 1.5, \"dasharray\": \"none\", \"alpha\": 1, \"zorder\": 2, \"drawstyle\": \"default\"}, {\"data\": \"data02\", \"xindex\": 4, \"yindex\": 2, \"coordinates\": \"data\", \"id\": \"el84464406974672\", \"color\": \"#7F7F7F\", \"linewidth\": 1.5, \"dasharray\": \"none\", \"alpha\": 1, \"zorder\": 2, \"drawstyle\": \"default\"}, {\"data\": \"data02\", \"xindex\": 5, \"yindex\": 1, \"coordinates\": \"data\", \"id\": \"el84464407693888\", \"color\": \"#BCBD22\", \"linewidth\": 1.5, \"dasharray\": \"none\", \"alpha\": 1, \"zorder\": 2, \"drawstyle\": \"default\"}, {\"data\": \"data02\", \"xindex\": 5, \"yindex\": 2, \"coordinates\": \"data\", \"id\": \"el84464409053256\", \"color\": \"#17BECF\", \"linewidth\": 1.5, \"dasharray\": \"none\", \"alpha\": 1, \"zorder\": 2, \"drawstyle\": \"default\"}, {\"data\": \"data03\", \"xindex\": 0, \"yindex\": 1, \"coordinates\": \"data\", \"id\": \"el84464413922720\", \"color\": \"#1F77B4\", \"linewidth\": 1.5, \"dasharray\": \"none\", \"alpha\": 1, \"zorder\": 2, \"drawstyle\": \"default\"}, {\"data\": \"data03\", \"xindex\": 0, \"yindex\": 2, \"coordinates\": \"data\", \"id\": \"el84464410559848\", \"color\": \"#FF7F0E\", \"linewidth\": 1.5, \"dasharray\": \"none\", \"alpha\": 1, \"zorder\": 2, \"drawstyle\": \"default\"}, {\"data\": \"data04\", \"xindex\": 0, \"yindex\": 1, \"coordinates\": \"data\", \"id\": \"el84464415786344\", \"color\": \"#2CA02C\", \"linewidth\": 1.5, \"dasharray\": \"none\", \"alpha\": 1, \"zorder\": 2, \"drawstyle\": \"default\"}, {\"data\": \"data04\", \"xindex\": 0, \"yindex\": 2, \"coordinates\": \"data\", \"id\": \"el84464407619256\", \"color\": \"#D62728\", \"linewidth\": 1.5, \"dasharray\": \"none\", \"alpha\": 1, \"zorder\": 2, \"drawstyle\": \"default\"}, {\"data\": \"data04\", \"xindex\": 3, \"yindex\": 1, \"coordinates\": \"data\", \"id\": \"el84464407616848\", \"color\": \"#9467BD\", \"linewidth\": 1.5, \"dasharray\": \"none\", \"alpha\": 1, \"zorder\": 2, \"drawstyle\": \"default\"}, {\"data\": \"data04\", \"xindex\": 3, \"yindex\": 2, \"coordinates\": \"data\", \"id\": \"el84464410474680\", \"color\": \"#8C564B\", \"linewidth\": 1.5, \"dasharray\": \"none\", \"alpha\": 1, \"zorder\": 2, \"drawstyle\": \"default\"}, {\"data\": \"data04\", \"xindex\": 4, \"yindex\": 1, \"coordinates\": \"data\", \"id\": \"el84464410476920\", \"color\": \"#E377C2\", \"linewidth\": 1.5, \"dasharray\": \"none\", \"alpha\": 1, \"zorder\": 2, \"drawstyle\": \"default\"}, {\"data\": \"data04\", \"xindex\": 4, \"yindex\": 2, \"coordinates\": \"data\", \"id\": \"el84464408308736\", \"color\": \"#7F7F7F\", \"linewidth\": 1.5, \"dasharray\": \"none\", \"alpha\": 1, \"zorder\": 2, \"drawstyle\": \"default\"}, {\"data\": \"data04\", \"xindex\": 5, \"yindex\": 1, \"coordinates\": \"data\", \"id\": \"el84464408311648\", \"color\": \"#BCBD22\", \"linewidth\": 1.5, \"dasharray\": \"none\", \"alpha\": 1, \"zorder\": 2, \"drawstyle\": \"default\"}, {\"data\": \"data04\", \"xindex\": 5, \"yindex\": 2, \"coordinates\": \"data\", \"id\": \"el84464408474480\", \"color\": \"#17BECF\", \"linewidth\": 1.5, \"dasharray\": \"none\", \"alpha\": 1, \"zorder\": 2, \"drawstyle\": \"default\"}, {\"data\": \"data05\", \"xindex\": 0, \"yindex\": 1, \"coordinates\": \"data\", \"id\": \"el84464408471904\", \"color\": \"#1F77B4\", \"linewidth\": 1.5, \"dasharray\": \"none\", \"alpha\": 1, \"zorder\": 2, \"drawstyle\": \"default\"}, {\"data\": \"data05\", \"xindex\": 0, \"yindex\": 2, \"coordinates\": \"data\", \"id\": \"el84464408407544\", \"color\": \"#FF7F0E\", \"linewidth\": 1.5, \"dasharray\": \"none\", \"alpha\": 1, \"zorder\": 2, \"drawstyle\": \"default\"}, {\"data\": \"data06\", \"xindex\": 0, \"yindex\": 1, \"coordinates\": \"data\", \"id\": \"el84464408694040\", \"color\": \"#2CA02C\", \"linewidth\": 1.5, \"dasharray\": \"none\", \"alpha\": 1, \"zorder\": 2, \"drawstyle\": \"default\"}, {\"data\": \"data06\", \"xindex\": 0, \"yindex\": 2, \"coordinates\": \"data\", \"id\": \"el84464408695104\", \"color\": \"#D62728\", \"linewidth\": 1.5, \"dasharray\": \"none\", \"alpha\": 1, \"zorder\": 2, \"drawstyle\": \"default\"}, {\"data\": \"data06\", \"xindex\": 3, \"yindex\": 1, \"coordinates\": \"data\", \"id\": \"el84464408349136\", \"color\": \"#9467BD\", \"linewidth\": 1.5, \"dasharray\": \"none\", \"alpha\": 1, \"zorder\": 2, \"drawstyle\": \"default\"}, {\"data\": \"data06\", \"xindex\": 3, \"yindex\": 2, \"coordinates\": \"data\", \"id\": \"el84464419447776\", \"color\": \"#8C564B\", \"linewidth\": 1.5, \"dasharray\": \"none\", \"alpha\": 1, \"zorder\": 2, \"drawstyle\": \"default\"}, {\"data\": \"data06\", \"xindex\": 4, \"yindex\": 1, \"coordinates\": \"data\", \"id\": \"el84464410775256\", \"color\": \"#E377C2\", \"linewidth\": 1.5, \"dasharray\": \"none\", \"alpha\": 1, \"zorder\": 2, \"drawstyle\": \"default\"}, {\"data\": \"data06\", \"xindex\": 4, \"yindex\": 2, \"coordinates\": \"data\", \"id\": \"el84464410773912\", \"color\": \"#7F7F7F\", \"linewidth\": 1.5, \"dasharray\": \"none\", \"alpha\": 1, \"zorder\": 2, \"drawstyle\": \"default\"}, {\"data\": \"data06\", \"xindex\": 5, \"yindex\": 1, \"coordinates\": \"data\", \"id\": \"el84464406773352\", \"color\": \"#BCBD22\", \"linewidth\": 1.5, \"dasharray\": \"none\", \"alpha\": 1, \"zorder\": 2, \"drawstyle\": \"default\"}, {\"data\": \"data06\", \"xindex\": 5, \"yindex\": 2, \"coordinates\": \"data\", \"id\": \"el84464406096224\", \"color\": \"#17BECF\", \"linewidth\": 1.5, \"dasharray\": \"none\", \"alpha\": 1, \"zorder\": 2, \"drawstyle\": \"default\"}], \"paths\": [], \"markers\": [], \"texts\": [], \"collections\": [], \"images\": [], \"sharex\": [], \"sharey\": []}], \"data\": {\"data01\": [[-0.0, -20.0, 20.0], [951.0, -19.98, 19.98], [957.98, -19.53, 19.53], [964.88, -18.38, 18.38], [971.63, -16.55, 16.55], [978.17, -14.06, 14.06], [984.43, -10.93, 10.93], [990.34, -7.19, 7.19], [995.84, -2.88, 2.88], [1000.89, 1.97, -1.97], [1005.43, 7.29, -7.29], [1009.42, 13.03, -13.03], [1012.82, 19.15, -19.15], [1015.58, 25.58, -25.58], [1017.69, 32.24, -32.24], [1019.13, 39.09, -39.09], [1019.87, 46.46, -46.46], [1020.0, 1000.0, -1000.0], [980.0, 1000.0, -1000.0], [979.87, 46.47, -46.47], [979.42, 43.91, -43.91], [978.66, 41.01, -41.01], [977.62, 38.19, -38.19], [976.31, 35.49, -35.49], [974.73, 32.94, -32.94], [972.9, 30.55, -30.55], [970.84, 28.36, -28.36], [968.58, 26.39, -26.39], [966.13, 24.65, -24.65], [963.52, 23.17, -23.17], [960.77, 21.96, -21.96], [957.92, 21.02, -21.02], [954.99, 20.37, -20.37], [952.0, 20.03, -20.03], [949.0, 19.98, -19.98], [0.0, 20.0, -20.0]], \"data02\": [[-5.0, 0.0, 0.0, 95.0, 212.5, 312.5], [-5.0, 100.0, -100.0, 95.0, 212.5, 312.5], [5.0, 100.0, -100.0, 105.0, 227.5, 327.5], [5.0, 0.0, 0.0, 105.0, 227.5, 327.5]], \"data03\": [[-1500.0, -320.0, 320.0], [-549.0, -319.98, 319.98], [-542.02, -319.53, 319.53], [-535.12, -318.38, 318.38], [-528.37, -316.55, 316.55], [-521.83, -314.06, 314.06], [-515.57, -310.93, 310.93], [-509.65999999999997, -307.19, 307.19], [-504.15999999999997, -302.88, 302.88], [-499.11, -298.03, 298.03], [-494.57000000000005, -292.71, 292.71], [-490.58000000000004, -286.97, 286.97], [-487.17999999999995, -280.85, 280.85], [-484.41999999999996, -274.42, 274.42], [-482.30999999999995, -267.76, 267.76], [-480.87, -260.90999999999997, 260.90999999999997], [-480.13, -253.54, 253.54], [-480.0, 700.0, -700.0], [-520.0, 700.0, -700.0], [-520.13, -253.53, 253.53], [-520.58, -256.09000000000003, 256.09000000000003], [-521.34, -258.99, 258.99], [-522.38, -261.81, 261.81], [-523.69, -264.51, 264.51], [-525.27, -267.06, 267.06], [-527.1, -269.45, 269.45], [-529.16, -271.64, 271.64], [-531.42, -273.61, 273.61], [-533.87, -275.35, 275.35], [-536.48, -276.83, 276.83], [-539.23, -278.04, 278.04], [-542.08, -278.98, 278.98], [-545.01, -279.63, 279.63], [-548.0, -279.97, 279.97], [-551.0, -280.02, 280.02], [-1500.0, -280.0, 280.0]], \"data04\": [[-1505.0, 300.0, -300.0, -1405.0, -1287.5, -1187.5], [-1505.0, 400.0, -400.0, -1405.0, -1287.5, -1187.5], [-1495.0, 400.0, -400.0, -1395.0, -1272.5, -1172.5], [-1495.0, 300.0, -300.0, -1395.0, -1272.5, -1172.5]], \"data05\": [[2000.0, 280.0, -280.0], [2951.0, 280.02, -280.02], [2957.98, 280.47, -280.47], [2964.88, 281.62, -281.62], [2971.63, 283.45, -283.45], [2978.17, 285.94, -285.94], [2984.43, 289.07, -289.07], [2990.34, 292.81, -292.81], [2995.84, 297.12, -297.12], [3000.89, 301.97, -301.97], [3005.43, 307.29, -307.29], [3009.42, 313.03, -313.03], [3012.82, 319.15, -319.15], [3015.58, 325.58, -325.58], [3017.69, 332.24, -332.24], [3019.13, 339.09000000000003, -339.09000000000003], [3019.87, 346.46, -346.46], [3020.0, 1300.0, -1300.0], [2980.0, 1300.0, -1300.0], [2979.87, 346.47, -346.47], [2979.42, 343.90999999999997, -343.90999999999997], [2978.66, 341.01, -341.01], [2977.62, 338.19, -338.19], [2976.31, 335.49, -335.49], [2974.73, 332.94, -332.94], [2972.9, 330.55, -330.55], [2970.84, 328.36, -328.36], [2968.58, 326.39, -326.39], [2966.13, 324.65, -324.65], [2963.52, 323.17, -323.17], [2960.77, 321.96, -321.96], [2957.92, 321.02, -321.02], [2954.99, 320.37, -320.37], [2952.0, 320.03, -320.03], [2949.0, 319.98, -319.98], [2000.0, 320.0, -320.0]], \"data06\": [[1995.0, -300.0, 300.0, 2095.0, 2212.5, 2312.5], [1995.0, -200.0, 200.0, 2095.0, 2212.5, 2312.5], [2005.0, -200.0, 200.0, 2105.0, 2227.5, 2327.5], [2005.0, -300.0, 300.0, 2105.0, 2227.5, 2327.5]]}, \"id\": \"el84464408283320\", \"plugins\": [{\"type\": \"reset\"}, {\"type\": \"zoom\", \"button\": true, \"enabled\": false}, {\"type\": \"boxzoom\", \"button\": true, \"enabled\": false}]});\n",
       "            })\n",
       "         });\n",
       "}\n",
       "</script>"
      ],
      "text/plain": [
       "<matplotlib.figure.Figure at 0x106c110b8>"
      ]
     },
     "metadata": {},
     "output_type": "display_data"
    }
   ],
   "source": [
    "for x in full_design:\n",
    "    for elem in x:\n",
    "        if type(x[elem]['coord']) is not list:\n",
    "            toplot = [x[elem]['coord']]\n",
    "        else:\n",
    "            toplot = x[elem]['coord']\n",
    "        for tp in toplot:\n",
    "            plt.plot(tp[:,0], tp[:,1])\n",
    "            if 'inversion' in x[elem]['layer']:\n",
    "                flipped = mf.flip_feature(tp,0)\n",
    "                plt.plot(flipped[:,0], flipped[:,1])\n",
    "plt.show()"
   ]
  }
 ],
 "metadata": {
  "kernelspec": {
   "display_name": "Python 3",
   "language": "python",
   "name": "python3"
  },
  "language_info": {
   "codemirror_mode": {
    "name": "ipython",
    "version": 3
   },
   "file_extension": ".py",
   "mimetype": "text/x-python",
   "name": "python",
   "nbconvert_exporter": "python",
   "pygments_lexer": "ipython3",
   "version": "3.6.1"
  }
 },
 "nbformat": 4,
 "nbformat_minor": 2
}
