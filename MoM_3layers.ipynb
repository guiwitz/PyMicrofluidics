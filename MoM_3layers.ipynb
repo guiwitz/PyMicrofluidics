{
 "cells": [
  {
   "cell_type": "code",
   "execution_count": 1,
   "metadata": {
    "collapsed": true
   },
   "outputs": [],
   "source": [
    "from dxfwrite import DXFEngine as dxf\n",
    "import numpy as np\n",
    "import matplotlib.pyplot as plt\n",
    "import microfluidics as mf\n",
    "#import pyclipper\n",
    "from copy import deepcopy"
   ]
  },
  {
   "cell_type": "code",
   "execution_count": 4,
   "metadata": {
    "collapsed": true
   },
   "outputs": [],
   "source": [
    "#give the name of the dxf file to write\n",
    "file_name = '/Users/guillaume/Google Drive/PostDocBasel/PyMicrofluidics/3layerMoM_py_b.dxf'\n",
    "\n",
    "#Each layer is defined as a dictionary that is itself stored in a dictionary with a useful name. Each layer dictionary\n",
    "#has the following fields\n",
    "#name: layer name stored in DXF file\n",
    "#color: color assigned to layer\n",
    "#inversion: 0 == nothing happens, 1 == the layer is rotated 180° on the wafer (for multilayers)\n",
    "layers = {'layer_deep':{'name':'layer_6um','color':1, 'inversion':0},\n",
    "          'layer_growth':{'name':'layer_900nm','color':2, 'inversion':0},\n",
    "          'layer_shallow':{'name':'layer_200nm','color':3, 'inversion':0},\n",
    "          'layer_sizeref':{'name':'size_ref','color':4, 'inversion':0}}"
   ]
  },
  {
   "cell_type": "code",
   "execution_count": 5,
   "metadata": {
    "collapsed": true
   },
   "outputs": [],
   "source": [
    "#where to move the complete design\n",
    "origins = [np.array([-25000,0]),np.array([-25000,-20000]),np.array([-25000,20000])]\n",
    "#gc_widht is a list of growth channel widths in um\n",
    "widths_GC = [0.8,0.8,1.0,1.0,1.1,1.1]"
   ]
  },
  {
   "cell_type": "code",
   "execution_count": 6,
   "metadata": {
    "collapsed": true
   },
   "outputs": [],
   "source": [
    "#define position of all the features. Here the [0,0] position is at the dial-awawe\n",
    "#radius of large channels\n",
    "lc_rad = 25\n",
    "#positions relative to origin\n",
    "pos_inlet = np.array([-2100,-2600])\n",
    "#left and right x limit of channel features (except OF)\n",
    "leftlim = 700\n",
    "rightlim = 11670\n",
    "#BF outlet \n",
    "x_outlet_BF = 19500\n",
    "#CF outlet \n",
    "x_outlet_CF = 15500\n",
    "#OF outlet \n",
    "x_outlet_OF = 23500\n",
    "\n",
    "#OF main distance\n",
    "y_main_OF = -3400\n",
    "#BF main y distance\n",
    "y_main_BF1 = -2500\n",
    "y_main_BF2 = -1740\n",
    "y_main_BF3 = -1150\n",
    "\n",
    "#CF main y distance\n",
    "y_main_CF1 = y_main_BF1+120\n",
    "y_main_CF2 = y_main_CF1+280\n",
    "y_main_CF3 = y_main_BF3+120\n",
    "y_main_CF4 = y_main_CF3+280\n",
    "\n",
    "#%part of the growth channel overlapping with main channels\n",
    "overlap_GC = 3"
   ]
  },
  {
   "cell_type": "code",
   "execution_count": 7,
   "metadata": {
    "collapsed": true
   },
   "outputs": [],
   "source": [
    "#growth channel parameters\n",
    "length_GC = 40;#channel length (including overlapping region)\n",
    "num_GC = 320;#number of channels per size\n",
    "space_GC = 5;#space between single channels\n",
    "space_series_GC = 100;#space between channel series\n",
    "#pos_channelseries1 = junction+[1000,-2600];%lower left position of growth channel series 1\n",
    "#pos_channelseries2 = pos_channelseries1+[0,1300];%lower left position of growth channel series 2"
   ]
  },
  {
   "cell_type": "code",
   "execution_count": 8,
   "metadata": {
    "collapsed": true
   },
   "outputs": [],
   "source": [
    "#abberviations\n",
    "#OF == overflow\n",
    "#CF == channel flow\n",
    "#BF == back flow\n",
    "#GC == growth channel\n",
    "#NL = number layer"
   ]
  },
  {
   "cell_type": "code",
   "execution_count": 9,
   "metadata": {
    "collapsed": true
   },
   "outputs": [],
   "source": [
    "#define the paths of all features as well as some special features like channel arrays\n",
    "\n",
    "#overflow channel\n",
    "xy_OF = [(0,-45),(100,-45),(300,-300),(300,y_main_OF),(x_outlet_OF,y_main_OF),(x_outlet_OF,0)]\n",
    "curv_OF = [0,50,50,50,50,0]\n",
    "rad_OF = 12.5\n",
    "\n",
    "#back flow channel\n",
    "xy_BF = [(x_outlet_BF,0),(x_outlet_BF,y_main_BF1),(leftlim,y_main_BF1),(leftlim,y_main_BF2),\n",
    "         (rightlim-260,y_main_BF2),(rightlim-260,y_main_BF3),(leftlim,y_main_BF3)]\n",
    "curv_BF = [0,50,50,50,50,50,0]\n",
    "rad_BF = lc_rad\n",
    "\n",
    "#regular flow channel\n",
    "xy_CF = [(x_outlet_CF,0),(rightlim,y_main_CF1),(leftlim+100,y_main_CF1),(leftlim+100,y_main_CF2),\n",
    "         (rightlim,y_main_CF2),(rightlim,y_main_CF3),(leftlim+100,y_main_CF3),(leftlim+100,y_main_CF4),\n",
    "        (rightlim,y_main_CF4),(rightlim,-100),(rightlim-100,0),(rightlim-200,0)]\n",
    "curv_CF = [0,50,50,50,50,50,50,50,50,50,50,0]\n",
    "rad_CF = lc_rad\n",
    "\n",
    "#global filter shape\n",
    "xy_filter = [(leftlim, y_main_BF3-lc_rad),(leftlim,y_main_CF4),(leftlim+100,y_main_CF4)]\n",
    "curv_filter = [0,25,0]\n",
    "rad_filter = 25\n",
    "\n",
    "#growith channels\n",
    "GC_1 = mf.channel_array(length_GC, num_GC, space_GC, space_series_GC, widths_GC, \n",
    "                         [leftlim+300,y_main_CF1-lc_rad+overlap_GC],1)\n",
    "GC_2 = mf.channel_array(length_GC, num_GC, space_GC, space_series_GC, widths_GC, \n",
    "                        [leftlim+300,y_main_CF3-lc_rad+overlap_GC],1)\n",
    "\n",
    "#challow comb structure at the end of growth channels  \n",
    "rad_comb = 0.5\n",
    "comb_long_1 = mf.define_tube([[np.min(GC_1[0][:,0])-2,np.min(GC_1[0][:,1])+rad_comb+2],[np.max(GC_1[-1][:,0])+2,np.min(GC_1[0][:,1])+rad_comb+2]],\n",
    "                                               [0,0],rad_comb)\n",
    "comb_long_2 = mf.define_tube([[np.min(GC_2[0][:,0])-2,np.min(GC_2[0][:,1])+rad_comb+2],[np.max(GC_2[-1][:,0])+2,np.min(GC_2[0][:,1])+rad_comb+2]],\n",
    "                                               [0,0],rad_comb)\n",
    "comb_teeth_1 = mf.channel_array(10, num_GC, space_GC, space_series_GC, [1 for i in range(len(widths_GC))], \n",
    "                         [leftlim+300+0.5*space_GC,np.min(GC_1[0][:,1])+2],1)\n",
    "comb_teeth_2 = mf.channel_array(10, num_GC, space_GC, space_series_GC, [1 for i in range(len(widths_GC))], \n",
    "                         [leftlim+300+0.5*space_GC,np.min(GC_2[0][:,1])+2],1)\n",
    "\n"
   ]
  },
  {
   "cell_type": "code",
   "execution_count": null,
   "metadata": {
    "collapsed": true
   },
   "outputs": [],
   "source": [
    "#create layer with numbers and supporting pillars\n",
    "miny_comb = np.min(comb_teeth_1[0][:,1])\n",
    "y_NL = y_main_BF1+0.5*(np.abs((miny_comb-y_main_BF1))+lc_rad)\n",
    "rad_NL = (miny_comb-y_main_BF1-lc_rad)/2+3\n",
    "NL_back_1 = mf.define_tube([[np.min(comb_teeth_1[0][:,0])-20,y_NL],[np.max(comb_teeth_1[-1][:,0])+20,y_NL]],[0,0],rad_NL)\n",
    "\n",
    "num_array = mf.number_array(5, num_GC, space_GC, space_series_GC, len(widths_GC), \n",
    "                         [leftlim+300,y_NL],10, rotation = -np.pi/2)\n",
    "\n",
    "support_len = 20\n",
    "support_array = mf.channel_array(support_len, num_GC, space_GC, space_series_GC, [2 for i in range(len(widths_GC))],\n",
    "                                 [leftlim+300+0.5*space_GC,y_NL+support_len/2],2)\n",
    "support_array = [support_array[x] for x in range(len(support_array)) if np.mod(x+0,5)*np.mod(x,5)!=0] \n",
    "\n",
    "features_to_invert = []\n",
    "features_to_invert = features_to_invert+num_array['numbers']\n",
    "features_to_invert = features_to_invert+support_array\n",
    "num_pad = mf.reverse_feature(features_to_invert,NL_back_1)\n",
    "\n",
    "#copy this number layer at each location of channel arrays (don't use mirroring as it flips numbers)\n",
    "num_pad2 = num_pad.copy()\n",
    "for x in range(len(num_pad2)):\n",
    "    num_pad2[x] = np.array([y + np.array([0,y_main_BF3-y_main_BF1]) for y in num_pad2[x]])\n",
    "    \n",
    "num_pad3 = num_pad.copy()\n",
    "y_target = -y_NL + (-y_main_BF1) - lc_rad -rad_NL+3\n",
    "for x in range(len(num_pad2)):\n",
    "    num_pad3[x] = np.array([y + np.array([0,y_target]) for y in num_pad3[x]])\n",
    "    \n",
    "num_pad4 = num_pad.copy()\n",
    "y_target = -y_NL + (-y_main_BF3) - lc_rad -rad_NL+3\n",
    "for x in range(len(num_pad2)):\n",
    "    num_pad4[x] = np.array([y + np.array([0,y_target]) for y in num_pad4[x]])"
   ]
  },
  {
   "cell_type": "code",
   "execution_count": 10,
   "metadata": {
    "collapsed": true
   },
   "outputs": [],
   "source": [
    "#design is a dictionnary of features to draw. Each feature is itself a dictionary entry with a freely chosen name and \n",
    "#that has the following content:\n",
    "#1. 'coord': either a 2D numpy array or a list of 2D numpy arrays\n",
    "#2. 'layer': a dictionnary e.g. {'name':'layer_6um','color':1, 'inversion':0}\n",
    "#3. 'mirror': an optional field that gives the position of the horizontal axis around which to mirror the feature\n",
    "design = {}\n",
    "design['over_flow'] = {'coord': mf.define_tube(xy_OF,curv_OF,rad_OF), 'layer': layers['layer_deep'],'mirror': 0}\n",
    "design['back_flow'] = {'coord': mf.define_tube(xy_BF,curv_BF,rad_BF), 'layer': layers['layer_deep'],'mirror': 0}\n",
    "design['channel_flow'] = {'coord': mf.define_tube(xy_CF,curv_CF,rad_CF), 'layer': layers['layer_deep'],'mirror': 0}\n",
    "design['serpentine'] = {'coord': mf.serpentine(7, 150, lc_rad, 10000,75,[1000,-500], 'left','bottom', 'horizontal'), 'layer': layers['layer_deep']}\n",
    "\n",
    "design['punching_entry'] = {'coord': mf.circular_punching(20,250,[-2300,-2600]), 'layer': layers['layer_deep'],'mirror': 0}\n",
    "design['punching_BF'] = {'coord': mf.circular_punching(20,250,[x_outlet_BF,0]), 'layer': layers['layer_deep']}\n",
    "design['punching_OF'] = {'coord': mf.circular_punching(20,250,[x_outlet_OF,0]), 'layer': layers['layer_deep']}\n",
    "design['punching_CF'] = {'coord': mf.circular_punching(20,250,[x_outlet_CF,0]), 'layer': layers['layer_deep']}\n",
    "\n",
    "design['growth_channel_1'] = {'coord': GC_1, 'layer': layers['layer_growth'],'mirror': 0}\n",
    "design['growth_channel_2'] = {'coord': GC_2, 'layer': layers['layer_growth'],'mirror': 0}\n",
    "\n",
    "design['filter'] = {'coord': mf.patterned_region(mf.define_tube(xy_filter,curv_filter,rad_filter),1,7),'layer': layers['layer_shallow'],'mirror': 0}\n",
    "\n",
    "design['comb_long1'] = {'coord': comb_long_1, 'layer': layers['layer_shallow'],'mirror': 0}\n",
    "design['comb_long2'] = {'coord': comb_long_2, 'layer': layers['layer_shallow'],'mirror': 0}\n",
    "design['comb_teeth_1'] = {'coord': comb_teeth_1, 'layer': layers['layer_shallow'],'mirror': 0}\n",
    "design['comb_teeth_2'] = {'coord': comb_teeth_2, 'layer': layers['layer_shallow'],'mirror': 0}\n",
    "\n",
    "align, align2 = mf.align_mark_squares(pos = [leftlim+1000,y_main_OF-1000])\n",
    "design['align_mark1'] = {'coord': align, 'layer': layers['layer_shallow']}\n",
    "design['align_mark1b'] = {'coord': align2, 'layer': layers['layer_growth']}\n",
    "align, align2 = mf.align_mark_squares(pos = [leftlim+5000,y_main_OF-1000],rotation=True)\n",
    "design['align_mark2'] = {'coord': align, 'layer': layers['layer_shallow']}\n",
    "design['align_mark2b'] = {'coord': align2, 'layer': layers['layer_deep']}\n",
    "\n",
    "#design['numbers'] = {'coord': num_pad, 'layer': layers['layer_growth']}\n",
    "#design['numbers2'] = {'coord': num_pad2, 'layer': layers['layer_growth']}\n",
    "#design['numbers3'] = {'coord': num_pad3, 'layer': layers['layer_growth']}\n",
    "#design['numbers4'] = {'coord': num_pad4, 'layer': layers['layer_growth']}\n"
   ]
  },
  {
   "cell_type": "code",
   "execution_count": 11,
   "metadata": {},
   "outputs": [
    {
     "data": {
      "text/plain": [
       "'/Users/guillaume/Google Drive/PostDocBasel/PyMicrofluidics/3layerMoM_py_b.dxf'"
      ]
     },
     "execution_count": 11,
     "metadata": {},
     "output_type": "execute_result"
    }
   ],
   "source": [
    "file_name"
   ]
  },
  {
   "cell_type": "code",
   "execution_count": 12,
   "metadata": {
    "collapsed": true
   },
   "outputs": [],
   "source": [
    "#open drawing\n",
    "drawing = dxf.drawing(file_name)\n",
    "#define all layers\n",
    "for x in layers:\n",
    "    drawing.add_layer(layers[x]['name'], color=layers[x]['color'])\n",
    "\n",
    "#add design at all positions defined by origins \n",
    "#!!!!!!!!!!!!VERY IMPORTANT!!!!!!!!!!\n",
    "#(I use deepcopy here to be able to copy the same design several times)\n",
    "#!!!!!!!!!!!!VERY IMPORTANT!!!!!!!!!!\n",
    "for x in origins:\n",
    "    design_adjusted = mf.set_design_origin(deepcopy(design),x)\n",
    "    mf.draw_design(design_adjusted,drawing)\n",
    "\n",
    "#complete design with global alignement marks\n",
    "align, align2 = mf.align_mark_squares(pos = [-40000,1000])\n",
    "drawing = mf.add_closed_polyline(layers['layer_shallow'],align,drawing)\n",
    "drawing = mf.add_closed_polyline(layers['layer_growth'],align2,drawing)\n",
    "\n",
    "align, align2 = mf.align_mark_squares(pos = [-40000,5000],rotation=True)\n",
    "drawing = mf.add_closed_polyline(layers['layer_shallow'],align,drawing)\n",
    "drawing = mf.add_closed_polyline(layers['layer_deep'],align2,drawing)\n",
    "\n",
    "align, align2 = mf.align_mark_squares(pos = [40000,-3000])\n",
    "drawing = mf.add_closed_polyline(layers['layer_shallow'],align,drawing)\n",
    "drawing = mf.add_closed_polyline(layers['layer_growth'],align2,drawing)\n",
    "\n",
    "align, align2 = mf.align_mark_squares(pos = [40000,-5000],rotation=True)\n",
    "drawing = mf.add_closed_polyline(layers['layer_shallow'],align,drawing)\n",
    "drawing = mf.add_closed_polyline(layers['layer_deep'],align2,drawing)\n",
    "\n",
    "drawing.save()"
   ]
  },
  {
   "cell_type": "code",
   "execution_count": null,
   "metadata": {
    "collapsed": true
   },
   "outputs": [],
   "source": []
  }
 ],
 "metadata": {
  "kernelspec": {
   "display_name": "Python 3",
   "language": "python",
   "name": "python3"
  },
  "language_info": {
   "codemirror_mode": {
    "name": "ipython",
    "version": 3
   },
   "file_extension": ".py",
   "mimetype": "text/x-python",
   "name": "python",
   "nbconvert_exporter": "python",
   "pygments_lexer": "ipython3",
   "version": "3.6.1"
  }
 },
 "nbformat": 4,
 "nbformat_minor": 2
}
