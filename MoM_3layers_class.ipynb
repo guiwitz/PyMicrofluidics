{
 "cells": [
  {
   "cell_type": "code",
   "execution_count": 1,
   "metadata": {
    "collapsed": true
   },
   "outputs": [],
   "source": [
    "from dxfwrite import DXFEngine as dxf\n",
    "import numpy as np\n",
    "import matplotlib.pyplot as plt\n",
    "import microfluidics_class as mf\n",
    "from microfluidics_class import Design\n",
    "from microfluidics_class import Feature\n",
    "from copy import deepcopy"
   ]
  },
  {
   "cell_type": "code",
   "execution_count": 2,
   "metadata": {
    "collapsed": true
   },
   "outputs": [],
   "source": [
    "#initialize the design object and set a file name\n",
    "design = Design()\n",
    "design.file = '/Users/guillaume/Google Drive/PostDocBasel/PyMicrofluidics/3layerMoM_class-test.dxf'\n",
    "\n",
    "#Each layer is defined as a dictionary that is itself stored in a dictionary with a useful name. Each layer dictionary\n",
    "#has the following fields\n",
    "#name: layer name stored in DXF file\n",
    "#color: color assigned to layer\n",
    "#inversion: 0 == nothing happens, 1 == the layer is rotated 180° on the wafer (for multilayers)\n",
    "design.add_layer('layer_deep', {'name':'layer_6um','color':1, 'inversion':0})\n",
    "design.add_layer('layer_growth', {'name':'layer_900nm','color':2, 'inversion':0})\n",
    "design.add_layer('layer_shallow', {'name':'layer_200nm','color':3, 'inversion':0})\n",
    "design.add_layer('layer_sizeref', {'name':'size_ref','color':4, 'inversion':0})"
   ]
  },
  {
   "cell_type": "code",
   "execution_count": 3,
   "metadata": {
    "collapsed": true
   },
   "outputs": [],
   "source": [
    "#where to move the complete design\n",
    "origins = [np.array([-25000,0]),np.array([-25000,-20000]),np.array([-25000,20000])]\n",
    "#gc_widht is a list of growth channel widths in um\n",
    "widths_GC = [0.8,0.8,1.0,1.0,1.1,1.1]"
   ]
  },
  {
   "cell_type": "code",
   "execution_count": 4,
   "metadata": {
    "collapsed": true
   },
   "outputs": [],
   "source": [
    "#define position of all the features. Here the [0,0] position is at the dial-awawe\n",
    "#radius of large channels\n",
    "lc_rad = 25\n",
    "#positions relative to origin\n",
    "pos_inlet = np.array([-2100,-2600])\n",
    "#left and right x limit of channel features (except OF)\n",
    "leftlim = 700\n",
    "rightlim = 11670\n",
    "\n",
    "#inlet\n",
    "x_inlet = -2300\n",
    "y_inlet = -2600\n",
    "#dial-awawe\n",
    "separation = 10#separation between OF channels and channel leading to serpentine\n",
    "#serpentine\n",
    "x_serpentine_start = 1000\n",
    "y_serpentine_start = -500\n",
    "#BF outlet \n",
    "x_outlet_BF = 19500\n",
    "#CF outlet \n",
    "x_outlet_CF = 15500\n",
    "#OF outlet \n",
    "x_outlet_OF = 23500\n",
    "\n",
    "#OF at dial-awawe\n",
    "y_dial_OF = -1.5*lc_rad-separation\n",
    "#OF main distance\n",
    "y_main_OF = -3400\n",
    "#BF main y distance\n",
    "y_main_BF1 = -2500\n",
    "y_main_BF2 = -1740\n",
    "y_main_BF3 = -1150\n",
    "\n",
    "#CF main y distance\n",
    "y_main_CF1 = y_main_BF1+120\n",
    "y_main_CF2 = y_main_CF1+280\n",
    "y_main_CF3 = y_main_BF3+120\n",
    "y_main_CF4 = y_main_CF3+280\n",
    "\n",
    "#%part of the growth channel overlapping with main channels\n",
    "overlap_GC = 3"
   ]
  },
  {
   "cell_type": "code",
   "execution_count": 5,
   "metadata": {
    "collapsed": true
   },
   "outputs": [],
   "source": [
    "#growth channel parameters\n",
    "length_GC = 40;#channel length (including overlapping region)\n",
    "num_GC = 320;#number of channels per size\n",
    "space_GC = 5;#space between single channels\n",
    "space_series_GC = 100;#space between channel series\n",
    "#pos_channelseries1 = junction+[1000,-2600];%lower left position of growth channel series 1\n",
    "#pos_channelseries2 = pos_channelseries1+[0,1300];%lower left position of growth channel series 2"
   ]
  },
  {
   "cell_type": "code",
   "execution_count": 6,
   "metadata": {
    "collapsed": true
   },
   "outputs": [],
   "source": [
    "#abberviations\n",
    "#OF == overflow\n",
    "#CF == channel flow\n",
    "#BF == back flow\n",
    "#GC == growth channel\n",
    "#NL = number layer"
   ]
  },
  {
   "cell_type": "code",
   "execution_count": 7,
   "metadata": {
    "collapsed": true
   },
   "outputs": [],
   "source": [
    "#define the paths of all features as well as some special features like channel arrays\n",
    "\n",
    "#inlet channels\n",
    "xy_inlet = [[x_inlet, y_inlet],[-100,-lc_rad-separation],[0,-lc_rad-separation]]\n",
    "curv_inlet = [0,50,0]\n",
    "\n",
    "#dial-awawe to serpentine\n",
    "xy_dial_serpentine = [[0,0],[460,0],[x_serpentine_start-100,y_serpentine_start],[x_serpentine_start,y_serpentine_start]]\n",
    "curv_dial_serpentine = [0,50,50,0]\n",
    "\n",
    "#serpentine\n",
    "serpentine = Feature.serpentine(7, 150, lc_rad, 10000,75,[x_serpentine_start,y_serpentine_start],'left','bottom', 'horizontal')\n",
    "\n",
    "#serpentine to CF\n",
    "xy_serpentine_to_CF = [[x_serpentine_start+10000,y_serpentine_start+(7-1)*150],[x_serpentine_start+10000+300,y_serpentine_start+(7-1)*150],\n",
    "                      [np.max(serpentine.coord[0])+300,0],[rightlim-200,0]]\n",
    "curv_serpentine_to_CF = [0,50,50,0]\n",
    "\n",
    "#overflow channel\n",
    "xy_OF = [[0,y_dial_OF],[100,y_dial_OF],[300,-300],[300,y_main_OF],[x_outlet_OF,y_main_OF],[x_outlet_OF,0]]\n",
    "curv_OF = [0,50,50,50,50,0]\n",
    "rad_OF = 12.5\n",
    "\n",
    "#back flow channel\n",
    "xy_BF = [[x_outlet_BF,0],[x_outlet_BF,y_main_BF1],[leftlim,y_main_BF1],[leftlim,y_main_BF2],\n",
    "         [rightlim-260,y_main_BF2],[rightlim-260,y_main_BF3],[leftlim,y_main_BF3]]\n",
    "curv_BF = [0,50,50,50,50,50,0]\n",
    "rad_BF = lc_rad\n",
    "\n",
    "#regular flow channel\n",
    "xy_CF = [[x_outlet_CF,0],[rightlim,y_main_CF1],[leftlim+100,y_main_CF1],[leftlim+100,y_main_CF2],\n",
    "         [rightlim,y_main_CF2],[rightlim,y_main_CF3],[leftlim+100,y_main_CF3],[leftlim+100,y_main_CF4],\n",
    "        [rightlim,y_main_CF4],[rightlim,-100],[rightlim-100,0],[rightlim-200,0]]\n",
    "curv_CF = [0,50,50,50,50,50,50,50,50,50,50,0]\n",
    "rad_CF = lc_rad\n",
    "\n",
    "#global filter shape\n",
    "xy_filter = [[leftlim, y_main_BF3-lc_rad],[leftlim,y_main_CF4],[leftlim+100,y_main_CF4]]\n",
    "curv_filter = [0,25,0]\n",
    "rad_filter = 25\n",
    "\n",
    "#growith channels\n",
    "GC_1 = Feature.channel_array(length_GC, num_GC, space_GC, space_series_GC, widths_GC, \n",
    "                         [leftlim+300,y_main_CF1-lc_rad+overlap_GC],1)\n",
    "GC_2 = Feature.channel_array(length_GC, num_GC, space_GC, space_series_GC, widths_GC, \n",
    "                        [leftlim+300,y_main_CF3-lc_rad+overlap_GC],1)\n",
    "\n",
    "#challow comb structure at the end of growth channels  \n",
    "rad_comb = 0.5\n",
    "comb_long_1 = Feature.define_tube([[np.min(GC_1.coord[0][:,0])-2,np.min(GC_1.coord[0][:,1])+rad_comb+2],[np.max(GC_1.coord[-1][:,0])+2,np.min(GC_1.coord[0][:,1])+rad_comb+2]],[0,0],rad_comb)\n",
    "comb_long_2 = Feature.define_tube([[np.min(GC_2.coord[0][:,0])-2,np.min(GC_2.coord[0][:,1])+rad_comb+2],[np.max(GC_2.coord[-1][:,0])+2,np.min(GC_2.coord[0][:,1])+rad_comb+2]],[0,0],rad_comb)\n",
    "comb_teeth_1 = Feature.channel_array(10, num_GC, space_GC, space_series_GC, [1 for i in range(len(widths_GC))], \n",
    "                         [leftlim+300+0.5*space_GC,np.min(GC_1.coord[0][:,1])+2],1)\n",
    "comb_teeth_2 = Feature.channel_array(10, num_GC, space_GC, space_series_GC, [1 for i in range(len(widths_GC))], \n",
    "                         [leftlim+300+0.5*space_GC,np.min(GC_2.coord[0][:,1])+2],1)\n",
    "\n"
   ]
  },
  {
   "cell_type": "code",
   "execution_count": 8,
   "metadata": {
    "collapsed": true
   },
   "outputs": [],
   "source": [
    "#create layer with numbers and supporting pillars\n",
    "miny_comb = np.min(comb_teeth_1.coord[0][:,1])\n",
    "y_NL = y_main_BF1+0.5*(np.abs((miny_comb-y_main_BF1))+lc_rad)\n",
    "rad_NL = (miny_comb-y_main_BF1-lc_rad)/2+3\n",
    "NL_back_1 = Feature.define_tube([[np.min(comb_teeth_1.coord[0][:,0])-20,y_NL],[np.max(comb_teeth_1.coord[-1][:,0])+20,y_NL]],[0,0],rad_NL)\n",
    "\n",
    "num_array = Feature.number_array(5, num_GC, space_GC, space_series_GC, len(widths_GC), \n",
    "                         [leftlim+300,y_NL],10, rotation = -np.pi/2)\n",
    "\n",
    "support_len = 20\n",
    "support_array = Feature.channel_array(support_len, num_GC, space_GC, space_series_GC, [2 for i in range(len(widths_GC))],\n",
    "                                 [leftlim+300+0.5*space_GC,y_NL+support_len/2],2)\n",
    "support_array.coord = [support_array.coord[x] for x in range(len(support_array.coord)) if np.mod(x+0,5)*np.mod(x,5)!=0] \n",
    "\n",
    "features_to_invert = Feature.combine_features(num_array,support_array)\n",
    "num_pad = Feature.reverse_feature(features_to_invert,NL_back_1.coord[0])\n",
    "\n",
    "#copy this number layer at each location of channel arrays (don't use mirroring as it flips numbers)\n",
    "num_pad2 = num_pad.copy()\n",
    "for x in range(len(num_pad2.coord)):\n",
    "    num_pad2.coord[x] = np.array([y + np.array([0,y_main_BF3-y_main_BF1]) for y in num_pad2.coord[x]])\n",
    "    \n",
    "num_pad3 = num_pad.copy()\n",
    "y_target = -y_NL + (-y_main_BF1) - lc_rad -rad_NL+3\n",
    "for x in range(len(num_pad2.coord)):\n",
    "    num_pad3.coord[x] = np.array([y + np.array([0,y_target]) for y in num_pad3.coord[x]])\n",
    "    \n",
    "num_pad4 = num_pad.copy()\n",
    "y_target = -y_NL + (-y_main_BF3) - lc_rad -rad_NL+3\n",
    "for x in range(len(num_pad2.coord)):\n",
    "    num_pad4.coord[x] = np.array([y + np.array([0,y_target]) for y in num_pad4.coord[x]])"
   ]
  },
  {
   "cell_type": "code",
   "execution_count": 9,
   "metadata": {
    "collapsed": true
   },
   "outputs": [],
   "source": [
    "#design is a dictionnary of features to draw. Each feature is itself a dictionary entry with a freely chosen name and \n",
    "#that has the following content:\n",
    "#1. 'coord': either a 2D numpy array or a list of 2D numpy arrays\n",
    "#2. 'layer': a dictionnary e.g. {'name':'layer_6um','color':1, 'inversion':0}\n",
    "#3. 'mirror': an optional field that gives the position of the horizontal axis around which to mirror the feature\n",
    "\n",
    "design.add_feature('inlet_channel',Feature.define_tube(xy_inlet,curv_inlet,lc_rad).set_layer('layer_deep').set_mirror(0))\n",
    "design.add_feature('over_flow',Feature.define_tube(xy_OF,curv_OF,rad_OF).set_layer('layer_deep').set_mirror(0))\n",
    "design.add_feature('back_flow',Feature.define_tube(xy_BF,curv_BF,rad_BF).set_layer('layer_deep').set_mirror(0))\n",
    "design.add_feature('channel_flow',Feature.define_tube(xy_CF,curv_CF,rad_CF).set_layer('layer_deep').set_mirror(0))\n",
    "design.add_feature('serpentine',Feature.serpentine(7, 150, lc_rad, 10000,75,[x_serpentine_start,y_serpentine_start], 'left','bottom', 'horizontal').set_layer('layer_deep'))\n",
    "design.add_feature('dial_to_serpentine',Feature.define_tube(xy_dial_serpentine,curv_dial_serpentine,lc_rad).set_layer('layer_deep'))\n",
    "design.add_feature('serpentine_to_CF',Feature.define_tube(xy_serpentine_to_CF,curv_serpentine_to_CF,lc_rad).set_layer('layer_deep'))\n",
    "\n",
    "design.add_feature('punching_entry',Feature.circular_punching(20,250,[x_inlet,y_inlet]).set_layer('layer_deep').set_mirror(0))\n",
    "design.add_feature('punching_BF',Feature.circular_punching(20,250,[x_outlet_BF,0]).set_layer('layer_deep'))\n",
    "design.add_feature('punching_OF',Feature.circular_punching(20,250,[x_outlet_OF,0]).set_layer('layer_deep'))\n",
    "design.add_feature('punching_CF',Feature.circular_punching(20,250,[x_outlet_CF,0]).set_layer('layer_deep'))\n",
    "\n",
    "design.add_feature('growth_channel_1',GC_1.set_layer('layer_growth').set_mirror(0))\n",
    "design.add_feature('growth_channel_2',GC_2.set_layer('layer_growth').set_mirror(0))\n",
    "\n",
    "design.add_feature('filter',Feature.patterned_region(Feature.define_tube(xy_filter,curv_filter,rad_filter).coord[0],1,7).set_layer('layer_shallow').set_mirror(0))\n",
    "\n",
    "design.add_feature('comb_long1', comb_long_1.set_layer('layer_shallow').set_mirror(0))\n",
    "design.add_feature('comb_long2', comb_long_2.set_layer('layer_shallow').set_mirror(0))\n",
    "design.add_feature('comb_teeth_1', comb_teeth_1.set_layer('layer_shallow').set_mirror(0))\n",
    "design.add_feature('comb_teeth_2', comb_teeth_2.set_layer('layer_shallow').set_mirror(0))\n",
    "\n",
    "align1, align1b = Feature.align_mark_squares(pos = [leftlim+1000,y_main_OF-1000])\n",
    "design.add_feature('align_mark1', align1.set_layer('layer_shallow'))\n",
    "design.add_feature('align_mark1b', align1b.set_layer('layer_growth'))\n",
    "\n",
    "align2, align2b = Feature.align_mark_squares(pos = [leftlim+5000,y_main_OF-1000],rotation=True)\n",
    "design.add_feature('align_mark2', align2.set_layer('layer_shallow'))\n",
    "design.add_feature('align_mark2b', align2b.set_layer('layer_deep'))\n",
    "\n",
    "'''design.add_feature('numbers1', num_pad.set_layer('layer_growth'))\n",
    "design.add_feature('numbers2', num_pad2.set_layer('layer_growth'))\n",
    "design.add_feature('numbers3', num_pad3.set_layer('layer_growth'))\n",
    "design.add_feature('numbers4', num_pad4.set_layer('layer_growth'))'''\n"
   ]
  },
  {
   "cell_type": "code",
   "execution_count": 15,
   "metadata": {
    "collapsed": true
   },
   "outputs": [],
   "source": [
    "design.add_feature('numbers1', num_pad.set_layer('layer_growth'))\n",
    "design.add_feature('numbers2', num_pad2.set_layer('layer_growth'))\n",
    "design.add_feature('numbers3', num_pad3.set_layer('layer_growth'))\n",
    "design.add_feature('numbers4', num_pad4.set_layer('layer_growth'))"
   ]
  },
  {
   "cell_type": "code",
   "execution_count": 16,
   "metadata": {
    "collapsed": true
   },
   "outputs": [],
   "source": [
    "fulldesign = design.multiplicate(origins)"
   ]
  },
  {
   "cell_type": "code",
   "execution_count": 17,
   "metadata": {
    "collapsed": true
   },
   "outputs": [],
   "source": [
    "fulldesign.draw_design()"
   ]
  },
  {
   "cell_type": "code",
   "execution_count": 18,
   "metadata": {
    "collapsed": true
   },
   "outputs": [],
   "source": [
    "fulldesign.close()"
   ]
  },
  {
   "cell_type": "code",
   "execution_count": 14,
   "metadata": {},
   "outputs": [
    {
     "ename": "NameError",
     "evalue": "name 'layers' is not defined",
     "output_type": "error",
     "traceback": [
      "\u001b[0;31m---------------------------------------------------------------------------\u001b[0m",
      "\u001b[0;31mNameError\u001b[0m                                 Traceback (most recent call last)",
      "\u001b[0;32m<ipython-input-14-daa9d91151ec>\u001b[0m in \u001b[0;36m<module>\u001b[0;34m()\u001b[0m\n\u001b[1;32m      2\u001b[0m \u001b[0mdrawing\u001b[0m \u001b[0;34m=\u001b[0m \u001b[0mdxf\u001b[0m\u001b[0;34m.\u001b[0m\u001b[0mdrawing\u001b[0m\u001b[0;34m(\u001b[0m\u001b[0mdesign\u001b[0m\u001b[0;34m.\u001b[0m\u001b[0mfile\u001b[0m\u001b[0;34m)\u001b[0m\u001b[0;34m\u001b[0m\u001b[0m\n\u001b[1;32m      3\u001b[0m \u001b[0;31m#define all layers\u001b[0m\u001b[0;34m\u001b[0m\u001b[0;34m\u001b[0m\u001b[0m\n\u001b[0;32m----> 4\u001b[0;31m \u001b[0;32mfor\u001b[0m \u001b[0mx\u001b[0m \u001b[0;32min\u001b[0m \u001b[0mlayers\u001b[0m\u001b[0;34m:\u001b[0m\u001b[0;34m\u001b[0m\u001b[0m\n\u001b[0m\u001b[1;32m      5\u001b[0m     \u001b[0mdrawing\u001b[0m\u001b[0;34m.\u001b[0m\u001b[0madd_layer\u001b[0m\u001b[0;34m(\u001b[0m\u001b[0mlayers\u001b[0m\u001b[0;34m[\u001b[0m\u001b[0mx\u001b[0m\u001b[0;34m]\u001b[0m\u001b[0;34m[\u001b[0m\u001b[0;34m'name'\u001b[0m\u001b[0;34m]\u001b[0m\u001b[0;34m,\u001b[0m \u001b[0mcolor\u001b[0m\u001b[0;34m=\u001b[0m\u001b[0mlayers\u001b[0m\u001b[0;34m[\u001b[0m\u001b[0mx\u001b[0m\u001b[0;34m]\u001b[0m\u001b[0;34m[\u001b[0m\u001b[0;34m'color'\u001b[0m\u001b[0;34m]\u001b[0m\u001b[0;34m)\u001b[0m\u001b[0;34m\u001b[0m\u001b[0m\n\u001b[1;32m      6\u001b[0m \u001b[0;34m\u001b[0m\u001b[0m\n",
      "\u001b[0;31mNameError\u001b[0m: name 'layers' is not defined"
     ]
    }
   ],
   "source": [
    "#open drawing\n",
    "drawing = dxf.drawing(design.file)\n",
    "#define all layers\n",
    "for x in layers:\n",
    "    drawing.add_layer(layers[x]['name'], color=layers[x]['color'])\n",
    "\n",
    "#add design at all positions defined by origins \n",
    "#!!!!!!!!!!!!VERY IMPORTANT!!!!!!!!!!\n",
    "#(I use deepcopy here to be able to copy the same design several times)\n",
    "#!!!!!!!!!!!!VERY IMPORTANT!!!!!!!!!!\n",
    "for x in origins:\n",
    "    design_adjusted = mf.set_design_origin(deepcopy(design),x)\n",
    "    mf.draw_design(design_adjusted,drawing)\n",
    "\n",
    "#complete design with global alignement marks\n",
    "align, align2 = mf.align_mark_squares(pos = [-40000,1000])\n",
    "drawing = mf.add_closed_polyline(layers['layer_shallow'],align,drawing)\n",
    "drawing = mf.add_closed_polyline(layers['layer_growth'],align2,drawing)\n",
    "\n",
    "align, align2 = mf.align_mark_squares(pos = [-40000,5000],rotation=True)\n",
    "drawing = mf.add_closed_polyline(layers['layer_shallow'],align,drawing)\n",
    "drawing = mf.add_closed_polyline(layers['layer_deep'],align2,drawing)\n",
    "\n",
    "align, align2 = mf.align_mark_squares(pos = [40000,-3000])\n",
    "drawing = mf.add_closed_polyline(layers['layer_shallow'],align,drawing)\n",
    "drawing = mf.add_closed_polyline(layers['layer_growth'],align2,drawing)\n",
    "\n",
    "align, align2 = mf.align_mark_squares(pos = [40000,-5000],rotation=True)\n",
    "drawing = mf.add_closed_polyline(layers['layer_shallow'],align,drawing)\n",
    "drawing = mf.add_closed_polyline(layers['layer_deep'],align2,drawing)\n",
    "\n",
    "drawing.save()"
   ]
  },
  {
   "cell_type": "markdown",
   "metadata": {},
   "source": [
    "If you want to directly draw some of the features in this notebook, just to have a look at them, you can use the following code"
   ]
  },
  {
   "cell_type": "code",
   "execution_count": null,
   "metadata": {},
   "outputs": [],
   "source": [
    "from bokeh.plotting import figure, output_notebook, show\n",
    "output_notebook()\n",
    "from ipywidgets import SelectMultiple\n",
    "from ipywidgets import interactive\n",
    "from ipywidgets import interact\n",
    "from ipywidgets import Checkbox\n",
    "from bokeh.models import Range1d"
   ]
  },
  {
   "cell_type": "code",
   "execution_count": null,
   "metadata": {
    "collapsed": true
   },
   "outputs": [],
   "source": [
    "sel_mult = SelectMultiple(options = [x for x in design.layers])"
   ]
  },
  {
   "cell_type": "code",
   "execution_count": null,
   "metadata": {
    "collapsed": true
   },
   "outputs": [],
   "source": [
    "def find_min(cur_min, new_min):\n",
    "    if new_min<cur_min:\n",
    "        cur_min = new_min\n",
    "    return cur_min\n",
    "\n",
    "def find_max(cur_max, new_max):\n",
    "    if new_max>cur_max:\n",
    "        cur_max = new_max\n",
    "    return cur_max\n",
    "\n",
    "def update_bounds(cur_bound, feature_coord):\n",
    "    cur_bound[0] = find_min(cur_bound[0],np.min([np.min(x[:,0]) for x in feature_coord]))\n",
    "    cur_bound[1] = find_max(cur_bound[1],np.max([np.max(x[:,0]) for x in feature_coord]))\n",
    "\n",
    "    cur_bound[2] = find_min(cur_bound[2],np.min([np.min(x[:,1]) for x in feature_coord]))\n",
    "    cur_bound[3] = find_max(cur_bound[3],np.max([np.max(x[:,1]) for x in feature_coord]))\n",
    "\n",
    "    return cur_bound\n",
    "\n",
    "def g(m):\n",
    "\n",
    "    layers_to_plot = m\n",
    "    if len(layers_to_plot)>0:\n",
    "        features_to_plot = [x for x in design.features if design.features[x].layer in layers_to_plot]\n",
    "        if len(features_to_plot)>0:\n",
    "            #chk = [Checkbox(description=a) for a in features_to_plot]\n",
    "            #interact(updatePlot, **{c.description: c.value for c in chk})\n",
    "            sel_mult2 = SelectMultiple(options = features_to_plot)\n",
    "            interactive_plot2 = interactive(updatePlot, n=sel_mult2)\n",
    "            display(interactive_plot2)\n",
    "\n",
    "def updatePlot(n):\n",
    "    #clear_output()\n",
    "    features_to_plot = n\n",
    "    if len(features_to_plot)>0:\n",
    "        p = figure(title=\"simple line example\", x_axis_label='x', y_axis_label='y',output_backend=\"webgl\")\n",
    "        cur_bound = [100000,-100000,100000,-100000]\n",
    "        for elem in features_to_plot:\n",
    "            toplot = design.features[elem].coord\n",
    "            cur_bound = update_bounds(cur_bound, toplot)\n",
    "            for tp in toplot:\n",
    "                p.line(tp[:,0], tp[:,1])\n",
    "            if not design.features[elem].mirror == None:\n",
    "                flipped = design.features[elem].flip_feature(0).coord\n",
    "                cur_bound = update_bounds(cur_bound, flipped)\n",
    "                for tp in flipped:\n",
    "                    p.line(tp[:,0], tp[:,1])\n",
    "                    \n",
    "        maxrange = np.max([cur_bound[1]-cur_bound[0],cur_bound[3]-cur_bound[2]])\n",
    "        p.x_range=Range1d(cur_bound[0],cur_bound[0]+maxrange)\n",
    "        p.y_range=Range1d(cur_bound[2],cur_bound[2]+maxrange)\n",
    "                \n",
    "        plot_height = 800\n",
    "        plot_width = 800\n",
    "        show(p)"
   ]
  },
  {
   "cell_type": "code",
   "execution_count": null,
   "metadata": {},
   "outputs": [],
   "source": [
    "interactive_plot = interactive(g, m=sel_mult)\n",
    "display(interactive_plot)"
   ]
  },
  {
   "cell_type": "code",
   "execution_count": null,
   "metadata": {
    "collapsed": true
   },
   "outputs": [],
   "source": [
    "%matplotlib inline\n",
    "import mpld3\n",
    "mpld3.enable_notebook()"
   ]
  },
  {
   "cell_type": "code",
   "execution_count": null,
   "metadata": {
    "scrolled": true
   },
   "outputs": [],
   "source": [
    "features_to_plot = ['inlet_channel','over_flow','back_flow','channel_flow','serpentine','punching_entry',\n",
    "                   'punching_BF','punching_OF','punching_CF','dial_to_serpentine','serpentine_to_CF']\n",
    "for elem in features_to_plot:\n",
    "    \n",
    "    toplot = design.features[elem].coord\n",
    "    for tp in toplot:\n",
    "        plt.plot(tp[:,0], tp[:,1])\n",
    "        if not design.features[elem].mirror == None:\n",
    "            flipped = mf.flip_feature(tp,0)\n",
    "            plt.plot(flipped[:,0], flipped[:,1])\n",
    "plt.axis('equal')\n",
    "plt.show()\n"
   ]
  },
  {
   "cell_type": "code",
   "execution_count": null,
   "metadata": {
    "collapsed": true
   },
   "outputs": [],
   "source": [
    "from bokeh.plotting import figure, output_notebook, show"
   ]
  },
  {
   "cell_type": "code",
   "execution_count": null,
   "metadata": {},
   "outputs": [],
   "source": [
    "output_notebook()"
   ]
  },
  {
   "cell_type": "code",
   "execution_count": null,
   "metadata": {
    "collapsed": true
   },
   "outputs": [],
   "source": [
    "p = figure(title=\"simple line example\", x_axis_label='x', y_axis_label='y')"
   ]
  },
  {
   "cell_type": "code",
   "execution_count": null,
   "metadata": {},
   "outputs": [],
   "source": [
    "layers_to_plot = ['layer_deep']\n",
    "features_to_plot = [x for x in design.features if design.features[x].layer in layers_to_plot]\n",
    "#features_to_plot = ['inlet_channel','over_flow','back_flow','channel_flow','serpentine','punching_entry',\n",
    "                   #'punching_BF','punching_OF','punching_CF','dial_to_serpentine','serpentine_to_CF']\n",
    "for elem in features_to_plot:\n",
    "    #print(elem)\n",
    "    toplot = design.features[elem].coord\n",
    "    for tp in toplot:\n",
    "        p.line(tp[:,0], tp[:,1])\n",
    "    if not design.features[elem].mirror == None:\n",
    "        flipped = design.features[elem].flip_feature(0).coord\n",
    "        for tp in flipped:\n",
    "            p.line(tp[:,0], tp[:,1])\n",
    "#plt.axis('equal')\n",
    "show(p)"
   ]
  },
  {
   "cell_type": "code",
   "execution_count": null,
   "metadata": {
    "collapsed": true
   },
   "outputs": [],
   "source": []
  }
 ],
 "metadata": {
  "kernelspec": {
   "display_name": "Python 3",
   "language": "python",
   "name": "python3"
  },
  "language_info": {
   "codemirror_mode": {
    "name": "ipython",
    "version": 3
   },
   "file_extension": ".py",
   "mimetype": "text/x-python",
   "name": "python",
   "nbconvert_exporter": "python",
   "pygments_lexer": "ipython3",
   "version": "3.6.1"
  }
 },
 "nbformat": 4,
 "nbformat_minor": 2
}
