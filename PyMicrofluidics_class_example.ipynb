{
 "cells": [
  {
   "cell_type": "code",
   "execution_count": 4,
   "metadata": {
    "collapsed": true
   },
   "outputs": [],
   "source": [
    "from dxfwrite import DXFEngine as dxf\n",
    "import numpy as np\n",
    "import matplotlib.pyplot as plt\n",
    "#import microfluidics_class as mf\n",
    "from copy import deepcopy\n",
    "\n",
    "from microfluidics_class import Design\n",
    "from microfluidics_class import Feature"
   ]
  },
  {
   "cell_type": "code",
   "execution_count": 2,
   "metadata": {
    "collapsed": true
   },
   "outputs": [
    {
     "ename": "NameError",
     "evalue": "name 'design' is not defined",
     "output_type": "error",
     "traceback": [
      "\u001b[0;31m---------------------------------------------------------------------------\u001b[0m",
      "\u001b[0;31mNameError\u001b[0m                                 Traceback (most recent call last)",
      "\u001b[0;32m<ipython-input-2-f6c3f4a10852>\u001b[0m in \u001b[0;36m<module>\u001b[0;34m()\u001b[0m\n\u001b[0;32m----> 1\u001b[0;31m \u001b[0mdesign\u001b[0m\u001b[0;34m.\u001b[0m\u001b[0mfile\u001b[0m \u001b[0;34m=\u001b[0m \u001b[0;34m'/Users/guillaume/Desktop/test_class3.dxf'\u001b[0m\u001b[0;34m\u001b[0m\u001b[0m\n\u001b[0m",
      "\u001b[0;31mNameError\u001b[0m: name 'design' is not defined"
     ]
    }
   ],
   "source": [
    "design.file = '/Users/guillaume/Desktop/test_class3.dxf'"
   ]
  },
  {
   "cell_type": "code",
   "execution_count": 5,
   "metadata": {
    "collapsed": true
   },
   "outputs": [],
   "source": [
    "design = Design()\n",
    "design.add_layer('Layer1', {'name':'first_layer','color':1, 'inversion':0})\n",
    "design.add_layer('Layer2', {'name':'sec_layer','color':2, 'inversion':0})\n",
    "design.add_layer('Layer3', {'name':'third_layer','color':3, 'inversion':0})\n",
    "design.add_layer('Layer4', {'name':'fourth_layer','color':4, 'inversion':0})"
   ]
  },
  {
   "cell_type": "code",
   "execution_count": 6,
   "metadata": {
    "collapsed": true
   },
   "outputs": [],
   "source": [
    "design2 = Design()\n",
    "design2.add_layer('Layer1', {'name':'first_layer','color':1, 'inversion':0})\n",
    "design2.add_layer('Layer2', {'name':'sec_layer','color':2, 'inversion':0})\n",
    "design2.add_layer('Layer3', {'name':'third_layer','color':3, 'inversion':0})\n",
    "design2.add_layer('Layer4', {'name':'fourth_layer','color':4, 'inversion':0})"
   ]
  },
  {
   "cell_type": "code",
   "execution_count": 7,
   "metadata": {
    "collapsed": true
   },
   "outputs": [],
   "source": [
    "tube_coord = [[0,0],[1000,0],[1000,1000]]\n",
    "tube_rad = 20\n",
    "tube_curv = [0,50,0]"
   ]
  },
  {
   "cell_type": "code",
   "execution_count": 8,
   "metadata": {},
   "outputs": [
    {
     "data": {
      "text/plain": [
       "<microfluidics_class.Feature at 0x1066cd5c0>"
      ]
     },
     "execution_count": 8,
     "metadata": {},
     "output_type": "execute_result"
    }
   ],
   "source": [
    "myfeature1 = tube_broken = Feature.define_tube_broken(tube_coord,50, 20, 100)\n",
    "#Feature.define_tube(tube_coord,tube_curv,tube_rad)\n",
    "myfeature1.set_layer('Layer1')\n",
    "myfeature1.set_mirror(0)"
   ]
  },
  {
   "cell_type": "code",
   "execution_count": 9,
   "metadata": {
    "collapsed": true
   },
   "outputs": [],
   "source": [
    "polygon = [300*np.array([np.sin(x),np.cos(x)]) for x in np.arange(0,2*np.pi,0.1)]\n",
    "polyfeature = Feature.define_polygon(polygon).set_layer('Layer4')\n"
   ]
  },
  {
   "cell_type": "code",
   "execution_count": 10,
   "metadata": {
    "collapsed": true
   },
   "outputs": [],
   "source": [
    "myfeature2 = Feature.circular_punching(nb_points=20,outer_rad=100,position=[0,0]).set_layer('Layer2')"
   ]
  },
  {
   "cell_type": "code",
   "execution_count": 11,
   "metadata": {
    "collapsed": true
   },
   "outputs": [],
   "source": [
    "#copy a given feature and move it\n",
    "myfeature2_copy = myfeature2.copy().move([1000,2000])"
   ]
  },
  {
   "cell_type": "code",
   "execution_count": 19,
   "metadata": {
    "collapsed": true
   },
   "outputs": [],
   "source": [
    "design.add_feature('myfirstfeature', myfeature1)\n",
    "design.add_feature('mysecondfeature', myfeature2)\n",
    "design2.add_feature('mysecondfeature', myfeature2_copy)\n",
    "design2.add_feature('polygon', polyfeature)"
   ]
  },
  {
   "cell_type": "code",
   "execution_count": 20,
   "metadata": {},
   "outputs": [
    {
     "data": {
      "text/plain": [
       "{'myfirstfeature': <microfluidics_class.Feature at 0x1066cd5c0>,\n",
       " 'myfirstfeature_mirror': <microfluidics_class.Feature at 0x10675e4e0>,\n",
       " 'mysecondfeature': <microfluidics_class.Feature at 0x10664de10>}"
      ]
     },
     "execution_count": 20,
     "metadata": {},
     "output_type": "execute_result"
    }
   ],
   "source": [
    "design.features"
   ]
  },
  {
   "cell_type": "code",
   "execution_count": 21,
   "metadata": {},
   "outputs": [
    {
     "data": {
      "text/plain": [
       "{'mysecondfeature': <microfluidics_class.Feature at 0x1066cd6d8>,\n",
       " 'mysecondfeature_copy': <microfluidics_class.Feature at 0x1066cd6d8>,\n",
       " 'polygon': <microfluidics_class.Feature at 0x1066cd828>}"
      ]
     },
     "execution_count": 21,
     "metadata": {},
     "output_type": "execute_result"
    }
   ],
   "source": [
    "design2.features"
   ]
  },
  {
   "cell_type": "code",
   "execution_count": 22,
   "metadata": {},
   "outputs": [],
   "source": [
    "design3 = sum(design+design2"
   ]
  },
  {
   "cell_type": "code",
   "execution_count": 23,
   "metadata": {},
   "outputs": [
    {
     "data": {
      "text/plain": [
       "{'myfirstfeature': <microfluidics_class.Feature at 0x10675ed30>,\n",
       " 'myfirstfeature_mirror': <microfluidics_class.Feature at 0x10675edd8>,\n",
       " 'mysecondfeature': <microfluidics_class.Feature at 0x10675ed68>,\n",
       " 'mysecondfeature0': <microfluidics_class.Feature at 0x1066cd6d8>,\n",
       " 'mysecondfeature_copy': <microfluidics_class.Feature at 0x1066cd6d8>,\n",
       " 'polygon': <microfluidics_class.Feature at 0x1066cd828>}"
      ]
     },
     "execution_count": 23,
     "metadata": {},
     "output_type": "execute_result"
    }
   ],
   "source": [
    "design3.features"
   ]
  },
  {
   "cell_type": "code",
   "execution_count": 41,
   "metadata": {},
   "outputs": [
    {
     "data": {
      "text/plain": [
       "<microfluidics_class.Feature at 0x10ae4c630>"
      ]
     },
     "execution_count": 41,
     "metadata": {},
     "output_type": "execute_result"
    }
   ],
   "source": [
    "myfeature3 = Feature.channel_array(length=100,num=2,origin=[0,-1000],space=200,space_series=200,subsampling=1,widths=[1,2]).set_layer('Layer1')\n",
    "numfeature = Feature.numbering(num=18.6,pos=[2000,1000],rotation=np.pi/4,scale=10).set_layer('Layer1')\n",
    "numarray = Feature.number_array(num_series=2,origin=[-2000,-1000],num=3,space=100,space_series=200,rotation=0,scale=5,subsampling=1).set_layer('Layer1')\n",
    "pattern = Feature.patterned_region(channel_separation=10,channel_width=1,global_shape=[[200,200],[400,200],[400,400],[200,400]])\n",
    "pattern.set_layer('Layer1')\n",
    "align1, align2 = Feature.align_mark_squares(pos=[300,600])\n",
    "align1.set_layer('Layer1')\n",
    "align2.set_layer('Layer2')\n",
    "combined = Feature.combine_features(align1,align2).set_layer('Layer3')\n",
    "inverted = Feature.reverse_feature(numarray,[[-2000,-1050],[-1000,-1050],[-1000,-950],[-2000,-950]])\n",
    "inverted.set_layer('Layer3')"
   ]
  },
  {
   "cell_type": "code",
   "execution_count": 42,
   "metadata": {
    "collapsed": true
   },
   "outputs": [],
   "source": [
    "design.add_feature('ch_array', myfeature3)\n",
    "design.add_feature('numfeature', numfeature)\n",
    "design.add_feature('numarray', numarray)\n",
    "design.add_feature('pattern', pattern)\n",
    "design.add_feature('align1', align1)\n",
    "design.add_feature('align2', align2)\n",
    "design.add_feature('combined', combined)\n",
    "design.add_feature('inverted', inverted)"
   ]
  },
  {
   "cell_type": "code",
   "execution_count": 43,
   "metadata": {
    "collapsed": true
   },
   "outputs": [],
   "source": [
    "#copy design at multiple positions\n",
    "fulldesign = design.multiplicate([[0,1000],[0,-1000]])\n",
    "\n",
    "#draw full design\n",
    "fulldesign.draw_design()\n",
    "\n",
    "#close the drawing\n",
    "fulldesign.close()"
   ]
  },
  {
   "cell_type": "code",
   "execution_count": 98,
   "metadata": {},
   "outputs": [
    {
     "data": {
      "text/html": [
       "\n",
       "    <div class=\"bk-root\">\n",
       "        <a href=\"http://bokeh.pydata.org\" target=\"_blank\" class=\"bk-logo bk-logo-small bk-logo-notebook\"></a>\n",
       "        <span id=\"e2f13429-a30b-4ae1-a059-a4c76a394444\">Loading BokehJS ...</span>\n",
       "    </div>"
      ]
     },
     "metadata": {},
     "output_type": "display_data"
    },
    {
     "data": {
      "application/javascript": [
       "\n",
       "(function(global) {\n",
       "  function now() {\n",
       "    return new Date();\n",
       "  }\n",
       "\n",
       "  var force = true;\n",
       "\n",
       "  if (typeof (window._bokeh_onload_callbacks) === \"undefined\" || force === true) {\n",
       "    window._bokeh_onload_callbacks = [];\n",
       "    window._bokeh_is_loading = undefined;\n",
       "  }\n",
       "\n",
       "\n",
       "  \n",
       "  if (typeof (window._bokeh_timeout) === \"undefined\" || force === true) {\n",
       "    window._bokeh_timeout = Date.now() + 5000;\n",
       "    window._bokeh_failed_load = false;\n",
       "  }\n",
       "\n",
       "  var NB_LOAD_WARNING = {'data': {'text/html':\n",
       "     \"<div style='background-color: #fdd'>\\n\"+\n",
       "     \"<p>\\n\"+\n",
       "     \"BokehJS does not appear to have successfully loaded. If loading BokehJS from CDN, this \\n\"+\n",
       "     \"may be due to a slow or bad network connection. Possible fixes:\\n\"+\n",
       "     \"</p>\\n\"+\n",
       "     \"<ul>\\n\"+\n",
       "     \"<li>re-rerun `output_notebook()` to attempt to load from CDN again, or</li>\\n\"+\n",
       "     \"<li>use INLINE resources instead, as so:</li>\\n\"+\n",
       "     \"</ul>\\n\"+\n",
       "     \"<code>\\n\"+\n",
       "     \"from bokeh.resources import INLINE\\n\"+\n",
       "     \"output_notebook(resources=INLINE)\\n\"+\n",
       "     \"</code>\\n\"+\n",
       "     \"</div>\"}};\n",
       "\n",
       "  function display_loaded() {\n",
       "    if (window.Bokeh !== undefined) {\n",
       "      var el = document.getElementById(\"e2f13429-a30b-4ae1-a059-a4c76a394444\");\n",
       "      el.textContent = \"BokehJS \" + Bokeh.version + \" successfully loaded.\";\n",
       "    } else if (Date.now() < window._bokeh_timeout) {\n",
       "      setTimeout(display_loaded, 100)\n",
       "    }\n",
       "  }\n",
       "\n",
       "  function run_callbacks() {\n",
       "    try {\n",
       "      window._bokeh_onload_callbacks.forEach(function(callback) { callback() });\n",
       "    }\n",
       "    finally {\n",
       "      delete window._bokeh_onload_callbacks\n",
       "    }\n",
       "    console.info(\"Bokeh: all callbacks have finished\");\n",
       "  }\n",
       "\n",
       "  function load_libs(js_urls, callback) {\n",
       "    window._bokeh_onload_callbacks.push(callback);\n",
       "    if (window._bokeh_is_loading > 0) {\n",
       "      console.log(\"Bokeh: BokehJS is being loaded, scheduling callback at\", now());\n",
       "      return null;\n",
       "    }\n",
       "    if (js_urls == null || js_urls.length === 0) {\n",
       "      run_callbacks();\n",
       "      return null;\n",
       "    }\n",
       "    console.log(\"Bokeh: BokehJS not loaded, scheduling load and callback at\", now());\n",
       "    window._bokeh_is_loading = js_urls.length;\n",
       "    for (var i = 0; i < js_urls.length; i++) {\n",
       "      var url = js_urls[i];\n",
       "      var s = document.createElement('script');\n",
       "      s.src = url;\n",
       "      s.async = false;\n",
       "      s.onreadystatechange = s.onload = function() {\n",
       "        window._bokeh_is_loading--;\n",
       "        if (window._bokeh_is_loading === 0) {\n",
       "          console.log(\"Bokeh: all BokehJS libraries loaded\");\n",
       "          run_callbacks()\n",
       "        }\n",
       "      };\n",
       "      s.onerror = function() {\n",
       "        console.warn(\"failed to load library \" + url);\n",
       "      };\n",
       "      console.log(\"Bokeh: injecting script tag for BokehJS library: \", url);\n",
       "      document.getElementsByTagName(\"head\")[0].appendChild(s);\n",
       "    }\n",
       "  };var element = document.getElementById(\"e2f13429-a30b-4ae1-a059-a4c76a394444\");\n",
       "  if (element == null) {\n",
       "    console.log(\"Bokeh: ERROR: autoload.js configured with elementid 'e2f13429-a30b-4ae1-a059-a4c76a394444' but no matching script tag was found. \")\n",
       "    return false;\n",
       "  }\n",
       "\n",
       "  var js_urls = [\"https://cdn.pydata.org/bokeh/release/bokeh-0.12.6.min.js\", \"https://cdn.pydata.org/bokeh/release/bokeh-widgets-0.12.6.min.js\"];\n",
       "\n",
       "  var inline_js = [\n",
       "    function(Bokeh) {\n",
       "      Bokeh.set_log_level(\"info\");\n",
       "    },\n",
       "    \n",
       "    function(Bokeh) {\n",
       "      \n",
       "    },\n",
       "    \n",
       "    function(Bokeh) {\n",
       "      \n",
       "      document.getElementById(\"e2f13429-a30b-4ae1-a059-a4c76a394444\").textContent = \"BokehJS is loading...\";\n",
       "    },\n",
       "    function(Bokeh) {\n",
       "      console.log(\"Bokeh: injecting CSS: https://cdn.pydata.org/bokeh/release/bokeh-0.12.6.min.css\");\n",
       "      Bokeh.embed.inject_css(\"https://cdn.pydata.org/bokeh/release/bokeh-0.12.6.min.css\");\n",
       "      console.log(\"Bokeh: injecting CSS: https://cdn.pydata.org/bokeh/release/bokeh-widgets-0.12.6.min.css\");\n",
       "      Bokeh.embed.inject_css(\"https://cdn.pydata.org/bokeh/release/bokeh-widgets-0.12.6.min.css\");\n",
       "    }\n",
       "  ];\n",
       "\n",
       "  function run_inline_js() {\n",
       "    \n",
       "    if ((window.Bokeh !== undefined) || (force === true)) {\n",
       "      for (var i = 0; i < inline_js.length; i++) {\n",
       "        inline_js[i](window.Bokeh);\n",
       "      }if (force === true) {\n",
       "        display_loaded();\n",
       "      }} else if (Date.now() < window._bokeh_timeout) {\n",
       "      setTimeout(run_inline_js, 100);\n",
       "    } else if (!window._bokeh_failed_load) {\n",
       "      console.log(\"Bokeh: BokehJS failed to load within specified timeout.\");\n",
       "      window._bokeh_failed_load = true;\n",
       "    } else if (force !== true) {\n",
       "      var cell = $(document.getElementById(\"e2f13429-a30b-4ae1-a059-a4c76a394444\")).parents('.cell').data().cell;\n",
       "      cell.output_area.append_execute_result(NB_LOAD_WARNING)\n",
       "    }\n",
       "\n",
       "  }\n",
       "\n",
       "  if (window._bokeh_is_loading === 0) {\n",
       "    console.log(\"Bokeh: BokehJS loaded, going straight to plotting\");\n",
       "    run_inline_js();\n",
       "  } else {\n",
       "    load_libs(js_urls, function() {\n",
       "      console.log(\"Bokeh: BokehJS plotting callback run at\", now());\n",
       "      run_inline_js();\n",
       "    });\n",
       "  }\n",
       "}(this));"
      ]
     },
     "metadata": {},
     "output_type": "display_data"
    }
   ],
   "source": [
    "from bokeh.plotting import figure, output_notebook, show\n",
    "output_notebook()\n",
    "from ipywidgets import SelectMultiple\n",
    "from ipywidgets import interactive\n",
    "from ipywidgets import interact\n",
    "from ipywidgets import Checkbox\n",
    "from bokeh.models import Range1d"
   ]
  },
  {
   "cell_type": "code",
   "execution_count": 99,
   "metadata": {
    "collapsed": true
   },
   "outputs": [],
   "source": [
    "sel_mult = SelectMultiple(options = [x for x in design.layers])"
   ]
  },
  {
   "cell_type": "code",
   "execution_count": 120,
   "metadata": {
    "collapsed": true
   },
   "outputs": [],
   "source": [
    "def g(m):\n",
    "\n",
    "    layers_to_plot = m\n",
    "    if len(layers_to_plot)>0:\n",
    "        features_to_plot = [x for x in design.features if design.features[x].layer in layers_to_plot]\n",
    "        if len(features_to_plot)>0:\n",
    "            #chk = [Checkbox(description=a) for a in features_to_plot]\n",
    "            #interact(updatePlot, **{c.description: c.value for c in chk})\n",
    "            sel_mult2 = SelectMultiple(options = features_to_plot)\n",
    "            interactive_plot2 = interactive(updatePlot, n=sel_mult2)\n",
    "            display(interactive_plot2)\n",
    "            \n",
    "def find_min(cur_min, new_min):\n",
    "    if new_min<cur_min:\n",
    "        cur_min = new_min\n",
    "    return cur_min\n",
    "\n",
    "def find_max(cur_max, new_max):\n",
    "    if new_max>cur_max:\n",
    "        cur_max = new_max\n",
    "    return cur_max\n",
    "\n",
    "def update_bounds(cur_bound, feature_coord):\n",
    "    cur_bound[0] = find_min(cur_bound[0],np.min([np.min(x[:,0]) for x in feature_coord]))\n",
    "    cur_bound[1] = find_max(cur_bound[1],np.max([np.max(x[:,0]) for x in feature_coord]))\n",
    "\n",
    "    cur_bound[2] = find_min(cur_bound[2],np.min([np.min(x[:,1]) for x in feature_coord]))\n",
    "    cur_bound[3] = find_max(cur_bound[3],np.max([np.max(x[:,1]) for x in feature_coord]))\n",
    "\n",
    "    return cur_bound\n",
    "\n",
    "\n",
    "def updatePlot(n):\n",
    "    #clear_output()\n",
    "    features_to_plot = n\n",
    "    if len(features_to_plot)>0:\n",
    "        p = figure(title=\"simple line example\", x_axis_label='x', y_axis_label='y',output_backend=\"webgl\")\n",
    "        cur_bound = [100000,-100000,100000,-100000]\n",
    "        \n",
    "        for elem in features_to_plot:\n",
    "            toplot = design.features[elem].coord\n",
    "            cur_bound = update_bounds(cur_bound, toplot)\n",
    "            for tp in toplot:\n",
    "                p.line(tp[:,0], tp[:,1])\n",
    "            if not design.features[elem].mirror == None:\n",
    "                flipped = design.features[elem].flip_feature(0).coord\n",
    "                cur_bound = update_bounds(cur_bound, flipped)\n",
    "                for tp in flipped:\n",
    "                    p.line(tp[:,0], tp[:,1])\n",
    "                    \n",
    "        maxrange = np.max([cur_bound[1]-cur_bound[0],cur_bound[3]-cur_bound[2]])\n",
    "        p.x_range=Range1d(cur_bound[0],cur_bound[0]+maxrange)\n",
    "        p.y_range=Range1d(cur_bound[2],cur_bound[2]+maxrange)\n",
    "        \n",
    "        #p.x_range=Range1d(np.min([cur_bound[0],cur_bound[2]]),np.max([cur_bound[1],cur_bound[3]]))\n",
    "        #p.y_range=Range1d(np.min([cur_bound[0],cur_bound[2]]),np.max([cur_bound[1],cur_bound[3]]))\n",
    "        \n",
    "        plot_height = 800\n",
    "        plot_width = 800\n",
    "        \n",
    "        #plot_width = int(800*((cur_bound[1]-cur_bound[0])/(cur_bound[3]-cur_bound[2])))\n",
    "        #plot_height = 800\n",
    "        #if plot_width>800:\n",
    "        #    p.plot_height = int(plot_height/(plot_width/800))\n",
    "        #    p.plot_width = 800\n",
    "        #elif plot_height>800:\n",
    "        #    p.plot_width = int(plot_height/(plot_height/800))\n",
    "        #    p.plot_height = 800\n",
    "        #else:\n",
    "        #    p.plot_width = plot_width\n",
    "        #    p.plot_height = plot_height\n",
    "        \n",
    "        #p.plot_height = 100\n",
    "        #p.inner_height = 100\n",
    "        #p.inner_width  = 100\n",
    "        \n",
    "        show(p)"
   ]
  },
  {
   "cell_type": "code",
   "execution_count": 121,
   "metadata": {},
   "outputs": [
    {
     "data": {
      "application/vnd.jupyter.widget-view+json": {
       "model_id": "bcf95fb58272447db451efbe5253eed4",
       "version_major": 2,
       "version_minor": 0
      },
      "text/plain": [
       "A Jupyter Widget"
      ]
     },
     "metadata": {},
     "output_type": "display_data"
    }
   ],
   "source": [
    "interactive_plot = interactive(g, m=sel_mult)\n",
    "#interactive_plot.layout.height = '200'\n",
    "#interactive_plot.layout.width = '100'\n",
    "display(interactive_plot)"
   ]
  },
  {
   "cell_type": "code",
   "execution_count": 109,
   "metadata": {
    "collapsed": true
   },
   "outputs": [],
   "source": [
    "p3."
   ]
  },
  {
   "cell_type": "code",
   "execution_count": 2,
   "metadata": {},
   "outputs": [
    {
     "data": {
      "text/html": [
       "<div style=\"display: table;\"><div style=\"display: table-row;\"><div style=\"display: table-cell;\"><b title=\"bokeh.models.renderers.GlyphRenderer\">GlyphRenderer</b>(</div><div style=\"display: table-cell;\">id&nbsp;=&nbsp;'69140a28-d91a-412b-9a4f-8f88cdc34622', <span id=\"5a775178-3fc2-42e4-8969-58266fdb44a9\" style=\"cursor: pointer;\">&hellip;)</span></div></div><div class=\"c770bc02-9657-418e-8a6e-1ce7cae9a0c9\" style=\"display: none;\"><div style=\"display: table-cell;\"></div><div style=\"display: table-cell;\">data_source&nbsp;=&nbsp;ColumnDataSource(id='ae384524-d39b-4ef6-8711-fabd3f64aba0', ...),</div></div><div class=\"c770bc02-9657-418e-8a6e-1ce7cae9a0c9\" style=\"display: none;\"><div style=\"display: table-cell;\"></div><div style=\"display: table-cell;\">glyph&nbsp;=&nbsp;Line(id='492a9656-1aaa-447a-bc13-940ccc8bee76', ...),</div></div><div class=\"c770bc02-9657-418e-8a6e-1ce7cae9a0c9\" style=\"display: none;\"><div style=\"display: table-cell;\"></div><div style=\"display: table-cell;\">hover_glyph&nbsp;=&nbsp;None,</div></div><div class=\"c770bc02-9657-418e-8a6e-1ce7cae9a0c9\" style=\"display: none;\"><div style=\"display: table-cell;\"></div><div style=\"display: table-cell;\">js_event_callbacks&nbsp;=&nbsp;{},</div></div><div class=\"c770bc02-9657-418e-8a6e-1ce7cae9a0c9\" style=\"display: none;\"><div style=\"display: table-cell;\"></div><div style=\"display: table-cell;\">js_property_callbacks&nbsp;=&nbsp;{},</div></div><div class=\"c770bc02-9657-418e-8a6e-1ce7cae9a0c9\" style=\"display: none;\"><div style=\"display: table-cell;\"></div><div style=\"display: table-cell;\">level&nbsp;=&nbsp;'glyph',</div></div><div class=\"c770bc02-9657-418e-8a6e-1ce7cae9a0c9\" style=\"display: none;\"><div style=\"display: table-cell;\"></div><div style=\"display: table-cell;\">muted&nbsp;=&nbsp;False,</div></div><div class=\"c770bc02-9657-418e-8a6e-1ce7cae9a0c9\" style=\"display: none;\"><div style=\"display: table-cell;\"></div><div style=\"display: table-cell;\">muted_glyph&nbsp;=&nbsp;None,</div></div><div class=\"c770bc02-9657-418e-8a6e-1ce7cae9a0c9\" style=\"display: none;\"><div style=\"display: table-cell;\"></div><div style=\"display: table-cell;\">name&nbsp;=&nbsp;None,</div></div><div class=\"c770bc02-9657-418e-8a6e-1ce7cae9a0c9\" style=\"display: none;\"><div style=\"display: table-cell;\"></div><div style=\"display: table-cell;\">nonselection_glyph&nbsp;=&nbsp;Line(id='404b069e-73f2-43fd-9662-cd2cb7bd85be', ...),</div></div><div class=\"c770bc02-9657-418e-8a6e-1ce7cae9a0c9\" style=\"display: none;\"><div style=\"display: table-cell;\"></div><div style=\"display: table-cell;\">selection_glyph&nbsp;=&nbsp;None,</div></div><div class=\"c770bc02-9657-418e-8a6e-1ce7cae9a0c9\" style=\"display: none;\"><div style=\"display: table-cell;\"></div><div style=\"display: table-cell;\">subscribed_events&nbsp;=&nbsp;[],</div></div><div class=\"c770bc02-9657-418e-8a6e-1ce7cae9a0c9\" style=\"display: none;\"><div style=\"display: table-cell;\"></div><div style=\"display: table-cell;\">tags&nbsp;=&nbsp;[],</div></div><div class=\"c770bc02-9657-418e-8a6e-1ce7cae9a0c9\" style=\"display: none;\"><div style=\"display: table-cell;\"></div><div style=\"display: table-cell;\">visible&nbsp;=&nbsp;True,</div></div><div class=\"c770bc02-9657-418e-8a6e-1ce7cae9a0c9\" style=\"display: none;\"><div style=\"display: table-cell;\"></div><div style=\"display: table-cell;\">x_range_name&nbsp;=&nbsp;'default',</div></div><div class=\"c770bc02-9657-418e-8a6e-1ce7cae9a0c9\" style=\"display: none;\"><div style=\"display: table-cell;\"></div><div style=\"display: table-cell;\">y_range_name&nbsp;=&nbsp;'default')</div></div></div>\n",
       "<script>\n",
       "(function() {\n",
       "  var expanded = false;\n",
       "  var ellipsis = document.getElementById(\"5a775178-3fc2-42e4-8969-58266fdb44a9\");\n",
       "  ellipsis.addEventListener(\"click\", function() {\n",
       "    var rows = document.getElementsByClassName(\"c770bc02-9657-418e-8a6e-1ce7cae9a0c9\");\n",
       "    for (var i = 0; i < rows.length; i++) {\n",
       "      var el = rows[i];\n",
       "      el.style.display = expanded ? \"none\" : \"table-row\";\n",
       "    }\n",
       "    ellipsis.innerHTML = expanded ? \"&hellip;)\" : \"&lsaquo;&lsaquo;&lsaquo;\";\n",
       "    expanded = !expanded;\n",
       "  });\n",
       "})();\n",
       "</script>\n"
      ],
      "text/plain": [
       "GlyphRenderer(id='69140a28-d91a-412b-9a4f-8f88cdc34622', ...)"
      ]
     },
     "execution_count": 2,
     "metadata": {},
     "output_type": "execute_result"
    }
   ],
   "source": [
    "p3 = figure(title=\"simple line example\", x_axis_label='x', y_axis_label='y')\n",
    "p3.line([1,2,3],[1,2,3])"
   ]
  },
  {
   "cell_type": "code",
   "execution_count": 7,
   "metadata": {
    "collapsed": true
   },
   "outputs": [],
   "source": [
    "p3.width =100\n",
    "p3.height =100"
   ]
  },
  {
   "cell_type": "code",
   "execution_count": 8,
   "metadata": {},
   "outputs": [
    {
     "data": {
      "text/html": [
       "\n",
       "\n",
       "    <div class=\"bk-root\">\n",
       "        <div class=\"bk-plotdiv\" id=\"0247fd45-cab2-49c2-b286-09f088700e2e\"></div>\n",
       "    </div>\n",
       "<script type=\"text/javascript\">\n",
       "  \n",
       "  (function(global) {\n",
       "    function now() {\n",
       "      return new Date();\n",
       "    }\n",
       "  \n",
       "    var force = false;\n",
       "  \n",
       "    if (typeof (window._bokeh_onload_callbacks) === \"undefined\" || force === true) {\n",
       "      window._bokeh_onload_callbacks = [];\n",
       "      window._bokeh_is_loading = undefined;\n",
       "    }\n",
       "  \n",
       "  \n",
       "    \n",
       "    if (typeof (window._bokeh_timeout) === \"undefined\" || force === true) {\n",
       "      window._bokeh_timeout = Date.now() + 0;\n",
       "      window._bokeh_failed_load = false;\n",
       "    }\n",
       "  \n",
       "    var NB_LOAD_WARNING = {'data': {'text/html':\n",
       "       \"<div style='background-color: #fdd'>\\n\"+\n",
       "       \"<p>\\n\"+\n",
       "       \"BokehJS does not appear to have successfully loaded. If loading BokehJS from CDN, this \\n\"+\n",
       "       \"may be due to a slow or bad network connection. Possible fixes:\\n\"+\n",
       "       \"</p>\\n\"+\n",
       "       \"<ul>\\n\"+\n",
       "       \"<li>re-rerun `output_notebook()` to attempt to load from CDN again, or</li>\\n\"+\n",
       "       \"<li>use INLINE resources instead, as so:</li>\\n\"+\n",
       "       \"</ul>\\n\"+\n",
       "       \"<code>\\n\"+\n",
       "       \"from bokeh.resources import INLINE\\n\"+\n",
       "       \"output_notebook(resources=INLINE)\\n\"+\n",
       "       \"</code>\\n\"+\n",
       "       \"</div>\"}};\n",
       "  \n",
       "    function display_loaded() {\n",
       "      if (window.Bokeh !== undefined) {\n",
       "        var el = document.getElementById(\"0247fd45-cab2-49c2-b286-09f088700e2e\");\n",
       "        el.textContent = \"BokehJS \" + Bokeh.version + \" successfully loaded.\";\n",
       "      } else if (Date.now() < window._bokeh_timeout) {\n",
       "        setTimeout(display_loaded, 100)\n",
       "      }\n",
       "    }\n",
       "  \n",
       "    function run_callbacks() {\n",
       "      try {\n",
       "        window._bokeh_onload_callbacks.forEach(function(callback) { callback() });\n",
       "      }\n",
       "      finally {\n",
       "        delete window._bokeh_onload_callbacks\n",
       "      }\n",
       "      console.info(\"Bokeh: all callbacks have finished\");\n",
       "    }\n",
       "  \n",
       "    function load_libs(js_urls, callback) {\n",
       "      window._bokeh_onload_callbacks.push(callback);\n",
       "      if (window._bokeh_is_loading > 0) {\n",
       "        console.log(\"Bokeh: BokehJS is being loaded, scheduling callback at\", now());\n",
       "        return null;\n",
       "      }\n",
       "      if (js_urls == null || js_urls.length === 0) {\n",
       "        run_callbacks();\n",
       "        return null;\n",
       "      }\n",
       "      console.log(\"Bokeh: BokehJS not loaded, scheduling load and callback at\", now());\n",
       "      window._bokeh_is_loading = js_urls.length;\n",
       "      for (var i = 0; i < js_urls.length; i++) {\n",
       "        var url = js_urls[i];\n",
       "        var s = document.createElement('script');\n",
       "        s.src = url;\n",
       "        s.async = false;\n",
       "        s.onreadystatechange = s.onload = function() {\n",
       "          window._bokeh_is_loading--;\n",
       "          if (window._bokeh_is_loading === 0) {\n",
       "            console.log(\"Bokeh: all BokehJS libraries loaded\");\n",
       "            run_callbacks()\n",
       "          }\n",
       "        };\n",
       "        s.onerror = function() {\n",
       "          console.warn(\"failed to load library \" + url);\n",
       "        };\n",
       "        console.log(\"Bokeh: injecting script tag for BokehJS library: \", url);\n",
       "        document.getElementsByTagName(\"head\")[0].appendChild(s);\n",
       "      }\n",
       "    };var element = document.getElementById(\"0247fd45-cab2-49c2-b286-09f088700e2e\");\n",
       "    if (element == null) {\n",
       "      console.log(\"Bokeh: ERROR: autoload.js configured with elementid '0247fd45-cab2-49c2-b286-09f088700e2e' but no matching script tag was found. \")\n",
       "      return false;\n",
       "    }\n",
       "  \n",
       "    var js_urls = [];\n",
       "  \n",
       "    var inline_js = [\n",
       "      function(Bokeh) {\n",
       "        (function() {\n",
       "          var fn = function() {\n",
       "            var docs_json = {\"475569d0-cc41-4c0e-8fe5-5684a6ce16b7\":{\"roots\":{\"references\":[{\"attributes\":{},\"id\":\"1a7ba9d6-d1a6-44e0-9cf8-c710d59598f1\",\"type\":\"BasicTickFormatter\"},{\"attributes\":{\"line_alpha\":{\"value\":0.1},\"line_color\":{\"value\":\"#1f77b4\"},\"x\":{\"field\":\"x\"},\"y\":{\"field\":\"y\"}},\"id\":\"404b069e-73f2-43fd-9662-cd2cb7bd85be\",\"type\":\"Line\"},{\"attributes\":{\"below\":[{\"id\":\"16682ce3-3036-4dd0-9af0-8be530389dbb\",\"type\":\"LinearAxis\"}],\"height\":100,\"left\":[{\"id\":\"b84e0781-1f96-441e-ac35-fbd493e02cd9\",\"type\":\"LinearAxis\"}],\"renderers\":[{\"id\":\"16682ce3-3036-4dd0-9af0-8be530389dbb\",\"type\":\"LinearAxis\"},{\"id\":\"67ee1fa0-eed2-4c1c-b141-ad21566a5fc2\",\"type\":\"Grid\"},{\"id\":\"b84e0781-1f96-441e-ac35-fbd493e02cd9\",\"type\":\"LinearAxis\"},{\"id\":\"cd016e3b-c7da-4b39-b5e8-95062cc799fc\",\"type\":\"Grid\"},{\"id\":\"e01f681c-1561-47ef-ad00-52508e771af5\",\"type\":\"BoxAnnotation\"},{\"id\":\"69140a28-d91a-412b-9a4f-8f88cdc34622\",\"type\":\"GlyphRenderer\"}],\"title\":{\"id\":\"a9d81793-a540-4d34-a8c9-d5a6608cd37a\",\"type\":\"Title\"},\"tool_events\":{\"id\":\"1153cc53-79cc-435c-8425-86cb0105e381\",\"type\":\"ToolEvents\"},\"toolbar\":{\"id\":\"14a7ab65-3243-4ec7-a903-21a0ecbd3cf0\",\"type\":\"Toolbar\"},\"width\":100,\"x_range\":{\"id\":\"1ee68ca2-230e-4443-a05d-f294dab6f445\",\"type\":\"DataRange1d\"},\"x_scale\":{\"id\":\"4b450814-b8a2-4654-9db3-9cc0dd4df9c2\",\"type\":\"LinearScale\"},\"y_range\":{\"id\":\"66879992-7dcb-46fd-9f9e-9a7db0f6a9fc\",\"type\":\"DataRange1d\"},\"y_scale\":{\"id\":\"d2c777d8-e431-4bbb-b677-724629c50b80\",\"type\":\"LinearScale\"}},\"id\":\"1f8403a3-e6b6-4135-820c-ce15db5aa574\",\"subtype\":\"Figure\",\"type\":\"Plot\"},{\"attributes\":{\"active_drag\":\"auto\",\"active_inspect\":\"auto\",\"active_scroll\":\"auto\",\"active_tap\":\"auto\",\"tools\":[{\"id\":\"1d513e03-2b6a-43f5-b23e-a3947553e800\",\"type\":\"PanTool\"},{\"id\":\"a6ead71b-0362-4a40-b560-3771228ebe38\",\"type\":\"WheelZoomTool\"},{\"id\":\"60612e74-5ac0-431b-b5f4-fb446be26bf6\",\"type\":\"BoxZoomTool\"},{\"id\":\"9b5ccaee-c366-492d-8790-300789f6016f\",\"type\":\"SaveTool\"},{\"id\":\"b7eb3e28-4a1a-4c73-a46b-9145de874c53\",\"type\":\"ResetTool\"},{\"id\":\"80ac6d7d-8bc5-41d2-a71f-62befea6a3cb\",\"type\":\"HelpTool\"}]},\"id\":\"14a7ab65-3243-4ec7-a903-21a0ecbd3cf0\",\"type\":\"Toolbar\"},{\"attributes\":{\"line_color\":{\"value\":\"#1f77b4\"},\"x\":{\"field\":\"x\"},\"y\":{\"field\":\"y\"}},\"id\":\"492a9656-1aaa-447a-bc13-940ccc8bee76\",\"type\":\"Line\"},{\"attributes\":{\"callback\":null,\"column_names\":[\"x\",\"y\"],\"data\":{\"x\":[1,2,3],\"y\":[1,2,3]}},\"id\":\"ae384524-d39b-4ef6-8711-fabd3f64aba0\",\"type\":\"ColumnDataSource\"},{\"attributes\":{\"plot\":null,\"text\":\"simple line example\"},\"id\":\"a9d81793-a540-4d34-a8c9-d5a6608cd37a\",\"type\":\"Title\"},{\"attributes\":{\"callback\":null},\"id\":\"1ee68ca2-230e-4443-a05d-f294dab6f445\",\"type\":\"DataRange1d\"},{\"attributes\":{},\"id\":\"1153cc53-79cc-435c-8425-86cb0105e381\",\"type\":\"ToolEvents\"},{\"attributes\":{\"plot\":{\"id\":\"1f8403a3-e6b6-4135-820c-ce15db5aa574\",\"subtype\":\"Figure\",\"type\":\"Plot\"}},\"id\":\"9b5ccaee-c366-492d-8790-300789f6016f\",\"type\":\"SaveTool\"},{\"attributes\":{\"plot\":{\"id\":\"1f8403a3-e6b6-4135-820c-ce15db5aa574\",\"subtype\":\"Figure\",\"type\":\"Plot\"}},\"id\":\"b7eb3e28-4a1a-4c73-a46b-9145de874c53\",\"type\":\"ResetTool\"},{\"attributes\":{\"axis_label\":\"y\",\"formatter\":{\"id\":\"1a7ba9d6-d1a6-44e0-9cf8-c710d59598f1\",\"type\":\"BasicTickFormatter\"},\"plot\":{\"id\":\"1f8403a3-e6b6-4135-820c-ce15db5aa574\",\"subtype\":\"Figure\",\"type\":\"Plot\"},\"ticker\":{\"id\":\"46251f45-7c7c-435d-a903-c621b45e1a99\",\"type\":\"BasicTicker\"}},\"id\":\"b84e0781-1f96-441e-ac35-fbd493e02cd9\",\"type\":\"LinearAxis\"},{\"attributes\":{},\"id\":\"46251f45-7c7c-435d-a903-c621b45e1a99\",\"type\":\"BasicTicker\"},{\"attributes\":{},\"id\":\"4b450814-b8a2-4654-9db3-9cc0dd4df9c2\",\"type\":\"LinearScale\"},{\"attributes\":{\"callback\":null},\"id\":\"66879992-7dcb-46fd-9f9e-9a7db0f6a9fc\",\"type\":\"DataRange1d\"},{\"attributes\":{},\"id\":\"860c9762-5e1b-402c-bf6b-746c354a2187\",\"type\":\"BasicTickFormatter\"},{\"attributes\":{},\"id\":\"d2c777d8-e431-4bbb-b677-724629c50b80\",\"type\":\"LinearScale\"},{\"attributes\":{\"dimension\":1,\"plot\":{\"id\":\"1f8403a3-e6b6-4135-820c-ce15db5aa574\",\"subtype\":\"Figure\",\"type\":\"Plot\"},\"ticker\":{\"id\":\"46251f45-7c7c-435d-a903-c621b45e1a99\",\"type\":\"BasicTicker\"}},\"id\":\"cd016e3b-c7da-4b39-b5e8-95062cc799fc\",\"type\":\"Grid\"},{\"attributes\":{\"plot\":{\"id\":\"1f8403a3-e6b6-4135-820c-ce15db5aa574\",\"subtype\":\"Figure\",\"type\":\"Plot\"},\"ticker\":{\"id\":\"0537ce80-fdfd-4b1e-a51c-7b2ce4a41f29\",\"type\":\"BasicTicker\"}},\"id\":\"67ee1fa0-eed2-4c1c-b141-ad21566a5fc2\",\"type\":\"Grid\"},{\"attributes\":{\"axis_label\":\"x\",\"formatter\":{\"id\":\"860c9762-5e1b-402c-bf6b-746c354a2187\",\"type\":\"BasicTickFormatter\"},\"plot\":{\"id\":\"1f8403a3-e6b6-4135-820c-ce15db5aa574\",\"subtype\":\"Figure\",\"type\":\"Plot\"},\"ticker\":{\"id\":\"0537ce80-fdfd-4b1e-a51c-7b2ce4a41f29\",\"type\":\"BasicTicker\"}},\"id\":\"16682ce3-3036-4dd0-9af0-8be530389dbb\",\"type\":\"LinearAxis\"},{\"attributes\":{},\"id\":\"0537ce80-fdfd-4b1e-a51c-7b2ce4a41f29\",\"type\":\"BasicTicker\"},{\"attributes\":{\"bottom_units\":\"screen\",\"fill_alpha\":{\"value\":0.5},\"fill_color\":{\"value\":\"lightgrey\"},\"left_units\":\"screen\",\"level\":\"overlay\",\"line_alpha\":{\"value\":1.0},\"line_color\":{\"value\":\"black\"},\"line_dash\":[4,4],\"line_width\":{\"value\":2},\"plot\":null,\"render_mode\":\"css\",\"right_units\":\"screen\",\"top_units\":\"screen\"},\"id\":\"e01f681c-1561-47ef-ad00-52508e771af5\",\"type\":\"BoxAnnotation\"},{\"attributes\":{\"plot\":{\"id\":\"1f8403a3-e6b6-4135-820c-ce15db5aa574\",\"subtype\":\"Figure\",\"type\":\"Plot\"}},\"id\":\"1d513e03-2b6a-43f5-b23e-a3947553e800\",\"type\":\"PanTool\"},{\"attributes\":{\"data_source\":{\"id\":\"ae384524-d39b-4ef6-8711-fabd3f64aba0\",\"type\":\"ColumnDataSource\"},\"glyph\":{\"id\":\"492a9656-1aaa-447a-bc13-940ccc8bee76\",\"type\":\"Line\"},\"hover_glyph\":null,\"muted_glyph\":null,\"nonselection_glyph\":{\"id\":\"404b069e-73f2-43fd-9662-cd2cb7bd85be\",\"type\":\"Line\"},\"selection_glyph\":null},\"id\":\"69140a28-d91a-412b-9a4f-8f88cdc34622\",\"type\":\"GlyphRenderer\"},{\"attributes\":{\"plot\":{\"id\":\"1f8403a3-e6b6-4135-820c-ce15db5aa574\",\"subtype\":\"Figure\",\"type\":\"Plot\"}},\"id\":\"a6ead71b-0362-4a40-b560-3771228ebe38\",\"type\":\"WheelZoomTool\"},{\"attributes\":{\"overlay\":{\"id\":\"e01f681c-1561-47ef-ad00-52508e771af5\",\"type\":\"BoxAnnotation\"},\"plot\":{\"id\":\"1f8403a3-e6b6-4135-820c-ce15db5aa574\",\"subtype\":\"Figure\",\"type\":\"Plot\"}},\"id\":\"60612e74-5ac0-431b-b5f4-fb446be26bf6\",\"type\":\"BoxZoomTool\"},{\"attributes\":{\"plot\":{\"id\":\"1f8403a3-e6b6-4135-820c-ce15db5aa574\",\"subtype\":\"Figure\",\"type\":\"Plot\"}},\"id\":\"80ac6d7d-8bc5-41d2-a71f-62befea6a3cb\",\"type\":\"HelpTool\"}],\"root_ids\":[\"1f8403a3-e6b6-4135-820c-ce15db5aa574\"]},\"title\":\"Bokeh Application\",\"version\":\"0.12.6\"}};\n",
       "            var render_items = [{\"docid\":\"475569d0-cc41-4c0e-8fe5-5684a6ce16b7\",\"elementid\":\"0247fd45-cab2-49c2-b286-09f088700e2e\",\"modelid\":\"1f8403a3-e6b6-4135-820c-ce15db5aa574\"}];\n",
       "            \n",
       "            Bokeh.embed.embed_items(docs_json, render_items);\n",
       "          };\n",
       "          if (document.readyState != \"loading\") fn();\n",
       "          else document.addEventListener(\"DOMContentLoaded\", fn);\n",
       "        })();\n",
       "      },\n",
       "      function(Bokeh) {\n",
       "      }\n",
       "    ];\n",
       "  \n",
       "    function run_inline_js() {\n",
       "      \n",
       "      if ((window.Bokeh !== undefined) || (force === true)) {\n",
       "        for (var i = 0; i < inline_js.length; i++) {\n",
       "          inline_js[i](window.Bokeh);\n",
       "        }if (force === true) {\n",
       "          display_loaded();\n",
       "        }} else if (Date.now() < window._bokeh_timeout) {\n",
       "        setTimeout(run_inline_js, 100);\n",
       "      } else if (!window._bokeh_failed_load) {\n",
       "        console.log(\"Bokeh: BokehJS failed to load within specified timeout.\");\n",
       "        window._bokeh_failed_load = true;\n",
       "      } else if (force !== true) {\n",
       "        var cell = $(document.getElementById(\"0247fd45-cab2-49c2-b286-09f088700e2e\")).parents('.cell').data().cell;\n",
       "        cell.output_area.append_execute_result(NB_LOAD_WARNING)\n",
       "      }\n",
       "  \n",
       "    }\n",
       "  \n",
       "    if (window._bokeh_is_loading === 0) {\n",
       "      console.log(\"Bokeh: BokehJS loaded, going straight to plotting\");\n",
       "      run_inline_js();\n",
       "    } else {\n",
       "      load_libs(js_urls, function() {\n",
       "        console.log(\"Bokeh: BokehJS plotting callback run at\", now());\n",
       "        run_inline_js();\n",
       "      });\n",
       "    }\n",
       "  }(this));\n",
       "</script>"
      ]
     },
     "metadata": {},
     "output_type": "display_data"
    }
   ],
   "source": [
    "show(p3)"
   ]
  },
  {
   "cell_type": "code",
   "execution_count": 7,
   "metadata": {
    "collapsed": true
   },
   "outputs": [],
   "source": [
    "from scipy import interpolate"
   ]
  },
  {
   "cell_type": "code",
   "execution_count": 16,
   "metadata": {
    "collapsed": true
   },
   "outputs": [],
   "source": [
    "tube = np.array(tube_coord)"
   ]
  },
  {
   "cell_type": "code",
   "execution_count": 15,
   "metadata": {
    "collapsed": true
   },
   "outputs": [],
   "source": [
    "tube_coord = [[0,0],[100,100],[200,0],[1000,0],[1000,1000]]"
   ]
  },
  {
   "cell_type": "code",
   "execution_count": 23,
   "metadata": {
    "collapsed": true
   },
   "outputs": [],
   "source": [
    "tck, u = interpolate.splprep([tube[:,0],tube[:,1]], k=1,s=0)"
   ]
  },
  {
   "cell_type": "code",
   "execution_count": 24,
   "metadata": {},
   "outputs": [
    {
     "data": {
      "image/png": "[encoded data removed]",
      "text/plain": [
       "<matplotlib.figure.Figure at 0x108c6c128>"
      ]
     },
     "metadata": {},
     "output_type": "display_data"
    }
   ],
   "source": [
    "unew = np.arange(0, 1.01, 0.01)\n",
    "out = interpolate.splev(unew, tck)\n",
    "plt.figure()\n",
    "plt.plot(tube[:,0], tube[:,1], 'x', out[0], out[1])\n",
    "plt.show()"
   ]
  },
  {
   "cell_type": "code",
   "execution_count": 25,
   "metadata": {},
   "outputs": [
    {
     "data": {
      "text/plain": [
       "array([[   0,    0],\n",
       "       [ 100,  100],\n",
       "       [ 200,    0],\n",
       "       [1000,    0],\n",
       "       [1000, 1000]])"
      ]
     },
     "execution_count": 25,
     "metadata": {},
     "output_type": "execute_result"
    }
   ],
   "source": [
    "tube"
   ]
  },
  {
   "cell_type": "code",
   "execution_count": 48,
   "metadata": {
    "collapsed": true
   },
   "outputs": [],
   "source": [
    "t = np.concatenate([np.array([0]),np.cumsum(np.linalg.norm(np.diff(tube,axis=0), axis=1))])\n",
    "tmax = t[-1]\n"
   ]
  },
  {
   "cell_type": "code",
   "execution_count": 29,
   "metadata": {},
   "outputs": [
    {
     "data": {
      "text/plain": [
       "array([[ 100,  100],\n",
       "       [ 100, -100],\n",
       "       [ 800,    0],\n",
       "       [   0, 1000]])"
      ]
     },
     "execution_count": 29,
     "metadata": {},
     "output_type": "execute_result"
    }
   ],
   "source": [
    "np.diff(tube,axis=0)"
   ]
  },
  {
   "cell_type": "code",
   "execution_count": 30,
   "metadata": {},
   "outputs": [
    {
     "data": {
      "text/plain": [
       "141.4213562373095"
      ]
     },
     "execution_count": 30,
     "metadata": {},
     "output_type": "execute_result"
    }
   ],
   "source": [
    "(100**2+100**2)**0.5"
   ]
  },
  {
   "cell_type": "code",
   "execution_count": 39,
   "metadata": {},
   "outputs": [
    {
     "data": {
      "text/plain": [
       "(5, 2)"
      ]
     },
     "execution_count": 39,
     "metadata": {},
     "output_type": "execute_result"
    }
   ],
   "source": [
    "t.shape\n",
    "tube.shape"
   ]
  },
  {
   "cell_type": "code",
   "execution_count": 52,
   "metadata": {
    "collapsed": true
   },
   "outputs": [],
   "source": [
    "splx, u = interpolate.splprep([np.diff(tube[:,0])/np.diff(t),tube[:-1,0]], k=1,s=0)\n",
    "sply, u = interpolate.splprep([np.diff(tube[:,1])/np.diff(t),tube[:-1,1]], k=1,s=0)"
   ]
  },
  {
   "cell_type": "code",
   "execution_count": 51,
   "metadata": {},
   "outputs": [
    {
     "data": {
      "text/plain": [
       "[array([ 0.        ,  0.        ,  0.09999989,  0.20000022,  1.        ,  1.        ]),\n",
       " [array([ 0.70710678,  0.70710678,  1.        ,  0.        ]),\n",
       "  array([    0.,   100.,   200.,  1000.])],\n",
       " 1]"
      ]
     },
     "execution_count": 51,
     "metadata": {},
     "output_type": "execute_result"
    }
   ],
   "source": [
    "splx"
   ]
  },
  {
   "cell_type": "code",
   "execution_count": 46,
   "metadata": {},
   "outputs": [
    {
     "data": {
      "text/plain": [
       "array([    0.        ,   141.42135624,   282.84271247,  1082.84271247,\n",
       "        2082.84271247])"
      ]
     },
     "execution_count": 46,
     "metadata": {},
     "output_type": "execute_result"
    }
   ],
   "source": [
    "np.concatenate([np.array([0]),t])"
   ]
  },
  {
   "cell_type": "code",
   "execution_count": 53,
   "metadata": {
    "collapsed": true
   },
   "outputs": [],
   "source": [
    "from shapely.geometry import LineString"
   ]
  },
  {
   "cell_type": "code",
   "execution_count": 66,
   "metadata": {
    "collapsed": true
   },
   "outputs": [],
   "source": [
    "test = LineString(tuple(tube))"
   ]
  },
  {
   "cell_type": "code",
   "execution_count": 69,
   "metadata": {},
   "outputs": [
    {
     "data": {
      "text/plain": [
       "array([[    0.,     0.],\n",
       "       [  100.,   100.],\n",
       "       [  200.,     0.],\n",
       "       [ 1000.,     0.],\n",
       "       [ 1000.,  1000.]])"
      ]
     },
     "execution_count": 69,
     "metadata": {},
     "output_type": "execute_result"
    }
   ],
   "source": [
    "np.array(test.coords)"
   ]
  },
  {
   "cell_type": "code",
   "execution_count": 104,
   "metadata": {
    "collapsed": true
   },
   "outputs": [],
   "source": [
    "unit_len = 10\n",
    "totlen = np.sum(np.linalg.norm(np.diff(np.array(tube_coord),axis=0), axis=1))\n",
    "interpol_points = np.array([np.array(LineString(tuple(tube_coord)).interpolate(x).coords).squeeze() for x in np.arange(0,totlen,unit_len/2)]).squeeze()\n"
   ]
  },
  {
   "cell_type": "code",
   "execution_count": 105,
   "metadata": {},
   "outputs": [
    {
     "data": {
      "image/png": "[encoded data removed]",
      "text/plain": [
       "<matplotlib.figure.Figure at 0x109fc6da0>"
      ]
     },
     "metadata": {},
     "output_type": "display_data"
    }
   ],
   "source": [
    "plt.plot(interpol_points[:,0],interpol_points[:,1],'o')\n",
    "plt.show()"
   ]
  },
  {
   "cell_type": "code",
   "execution_count": 112,
   "metadata": {
    "collapsed": true
   },
   "outputs": [],
   "source": [
    "broken_lines = [interpol_points[x:x+3] for x in range(0,interpol_points.shape[0],4)]"
   ]
  },
  {
   "cell_type": "code",
   "execution_count": 113,
   "metadata": {},
   "outputs": [
    {
     "data": {
      "image/png": "[encoded data removed]",
      "text/plain": [
       "<matplotlib.figure.Figure at 0x10437feb8>"
      ]
     },
     "metadata": {},
     "output_type": "display_data"
    }
   ],
   "source": [
    "for x in broken_lines:\n",
    "    plt.plot(x[:,0],x[:,1])\n",
    "plt.show()"
   ]
  },
  {
   "cell_type": "code",
   "execution_count": 103,
   "metadata": {},
   "outputs": [
    {
     "data": {
      "text/plain": [
       "416.5685424949238"
      ]
     },
     "execution_count": 103,
     "metadata": {},
     "output_type": "execute_result"
    }
   ],
   "source": [
    "point_dist"
   ]
  },
  {
   "cell_type": "code",
   "execution_count": 5,
   "metadata": {},
   "outputs": [
    {
     "ename": "NameError",
     "evalue": "name 'define_tube' is not defined",
     "output_type": "error",
     "traceback": [
      "\u001b[0;31m---------------------------------------------------------------------------\u001b[0m",
      "\u001b[0;31mNameError\u001b[0m                                 Traceback (most recent call last)",
      "\u001b[0;32m<ipython-input-5-8854703bd448>\u001b[0m in \u001b[0;36m<module>\u001b[0;34m()\u001b[0m\n\u001b[0;32m----> 1\u001b[0;31m \u001b[0mtube_broken\u001b[0m \u001b[0;34m=\u001b[0m \u001b[0mFeature\u001b[0m\u001b[0;34m.\u001b[0m\u001b[0mdefine_tube_broken\u001b[0m\u001b[0;34m(\u001b[0m\u001b[0mtube_coord\u001b[0m\u001b[0;34m,\u001b[0m\u001b[0;36m50\u001b[0m\u001b[0;34m,\u001b[0m \u001b[0;36m20\u001b[0m\u001b[0;34m,\u001b[0m \u001b[0;36m10\u001b[0m\u001b[0;34m)\u001b[0m\u001b[0;34m\u001b[0m\u001b[0m\n\u001b[0m",
      "\u001b[0;32m~/Google Drive/PostDocBasel/PyMicrofluidics/microfluidics_class.py\u001b[0m in \u001b[0;36mdefine_tube_broken\u001b[0;34m(cls, points, curvature, rad, dotlen)\u001b[0m\n\u001b[1;32m    286\u001b[0m \u001b[0;34m\u001b[0m\u001b[0m\n\u001b[1;32m    287\u001b[0m         \u001b[0mbroken_lines\u001b[0m \u001b[0;34m=\u001b[0m \u001b[0;34m[\u001b[0m\u001b[0minterpol_points\u001b[0m\u001b[0;34m[\u001b[0m\u001b[0mx\u001b[0m\u001b[0;34m:\u001b[0m\u001b[0mx\u001b[0m\u001b[0;34m+\u001b[0m\u001b[0;36m3\u001b[0m\u001b[0;34m]\u001b[0m \u001b[0;32mfor\u001b[0m \u001b[0mx\u001b[0m \u001b[0;32min\u001b[0m \u001b[0mrange\u001b[0m\u001b[0;34m(\u001b[0m\u001b[0;36m0\u001b[0m\u001b[0;34m,\u001b[0m\u001b[0minterpol_points\u001b[0m\u001b[0;34m.\u001b[0m\u001b[0mshape\u001b[0m\u001b[0;34m[\u001b[0m\u001b[0;36m0\u001b[0m\u001b[0;34m]\u001b[0m\u001b[0;34m,\u001b[0m\u001b[0;36m4\u001b[0m\u001b[0;34m)\u001b[0m\u001b[0;34m]\u001b[0m\u001b[0;34m\u001b[0m\u001b[0m\n\u001b[0;32m--> 288\u001b[0;31m         \u001b[0mbroken_lines_feature\u001b[0m \u001b[0;34m=\u001b[0m \u001b[0msum\u001b[0m\u001b[0;34m(\u001b[0m\u001b[0;34m[\u001b[0m\u001b[0mdefine_tube\u001b[0m\u001b[0;34m(\u001b[0m\u001b[0mx\u001b[0m\u001b[0;34m,\u001b[0m \u001b[0;34m[\u001b[0m\u001b[0;36m0\u001b[0m\u001b[0;34m,\u001b[0m\u001b[0mcurvature\u001b[0m\u001b[0;34m,\u001b[0m\u001b[0;36m0\u001b[0m\u001b[0;34m]\u001b[0m\u001b[0;34m,\u001b[0m \u001b[0mrad\u001b[0m\u001b[0;34m)\u001b[0m\u001b[0;34m]\u001b[0m\u001b[0;34m)\u001b[0m\u001b[0;34m\u001b[0m\u001b[0m\n\u001b[0m\u001b[1;32m    289\u001b[0m         \u001b[0;32mreturn\u001b[0m \u001b[0mbroken_lines_feature\u001b[0m\u001b[0;34m\u001b[0m\u001b[0m\n\u001b[1;32m    290\u001b[0m \u001b[0;34m\u001b[0m\u001b[0m\n",
      "\u001b[0;31mNameError\u001b[0m: name 'define_tube' is not defined"
     ]
    }
   ],
   "source": [
    "tube_broken = Feature.define_tube_broken(tube_coord,50, 20, 10)"
   ]
  },
  {
   "cell_type": "code",
   "execution_count": 12,
   "metadata": {
    "collapsed": true
   },
   "outputs": [],
   "source": [
    "nums = range(10)"
   ]
  },
  {
   "cell_type": "code",
   "execution_count": 14,
   "metadata": {},
   "outputs": [
    {
     "data": {
      "text/plain": [
       "9"
      ]
     },
     "execution_count": 14,
     "metadata": {},
     "output_type": "execute_result"
    }
   ],
   "source": [
    "nums[9]"
   ]
  },
  {
   "cell_type": "code",
   "execution_count": null,
   "metadata": {
    "collapsed": true
   },
   "outputs": [],
   "source": []
  }
 ],
 "metadata": {
  "kernelspec": {
   "display_name": "Python 3",
   "language": "python",
   "name": "python3"
  },
  "language_info": {
   "codemirror_mode": {
    "name": "ipython",
    "version": 3
   },
   "file_extension": ".py",
   "mimetype": "text/x-python",
   "name": "python",
   "nbconvert_exporter": "python",
   "pygments_lexer": "ipython3",
   "version": "3.6.1"
  }
 },
 "nbformat": 4,
 "nbformat_minor": 2
}
